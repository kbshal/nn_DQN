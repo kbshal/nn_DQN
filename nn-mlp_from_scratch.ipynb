{
 "cells": [
  {
   "cell_type": "markdown",
   "id": "20c69952",
   "metadata": {},
   "source": [
    "# Neural Network (MLP) From Scratch\n"
   ]
  },
  {
   "cell_type": "code",
   "execution_count": 1,
   "id": "53be8a03",
   "metadata": {},
   "outputs": [],
   "source": [
    "import numpy as np\n",
    "np.random.seed(69420)"
   ]
  },
  {
   "cell_type": "markdown",
   "id": "d7e0d3f6",
   "metadata": {},
   "source": [
    "### Neuron Representation\n",
    "```\n",
    "[ A    B <- Input Neurons\n",
    " [w00 w01] O1\n",
    " [w10 w11] O2\n",
    " [w20 w21] O3   <- Outputs to next layer\n",
    "]\n",
    "                 \n",
    "```"
   ]
  },
  {
   "cell_type": "code",
   "execution_count": 2,
   "id": "077bbe5c",
   "metadata": {},
   "outputs": [],
   "source": [
    "W1 = np.array([\n",
    "    [0.1,0.2], \n",
    "    [0.2,0.1],\n",
    "    [0.3,0.5]\n",
    "])\n",
    "\n",
    "bias1 = np.array([0.2,0.1,0.4])"
   ]
  },
  {
   "cell_type": "markdown",
   "id": "dfebe7fd",
   "metadata": {},
   "source": [
    "XOR function:"
   ]
  },
  {
   "cell_type": "code",
   "execution_count": 3,
   "id": "0af70846",
   "metadata": {},
   "outputs": [],
   "source": [
    "X = np.array([\n",
    "    [0,0],\n",
    "    [0,1],\n",
    "    [1,0],\n",
    "    [1,1]\n",
    "])\n",
    "\n",
    "t = np.array([\n",
    "    [0],\n",
    "    [1],\n",
    "    [1],\n",
    "    [0]\n",
    "])"
   ]
  },
  {
   "cell_type": "code",
   "execution_count": 4,
   "id": "199a9e0f",
   "metadata": {},
   "outputs": [],
   "source": [
    "def neuron_sum(x,W,b):\n",
    "    return W@x +b"
   ]
  },
  {
   "cell_type": "code",
   "execution_count": 5,
   "id": "15b48d9d",
   "metadata": {},
   "outputs": [
    {
     "name": "stdout",
     "output_type": "stream",
     "text": [
      "[0.2 0.1 0.4]\n",
      "[0.4 0.2 0.9]\n",
      "[0.3 0.3 0.7]\n",
      "[0.5 0.4 1.2]\n"
     ]
    }
   ],
   "source": [
    "for x in X:\n",
    "    print(neuron_sum(x,W1,bias1))"
   ]
  },
  {
   "cell_type": "markdown",
   "id": "2deab714",
   "metadata": {},
   "source": [
    "so our formula to compute the activation of a neuron is\n",
    "$$\n",
    "y_i = g(\\mathbf W \\cdot x + bias)\n",
    "$$"
   ]
  },
  {
   "cell_type": "markdown",
   "id": "e543aa31",
   "metadata": {},
   "source": [
    "### Neural Network Representation\n",
    "\n",
    "NN(MLP) = $[(W^1,bias^1),...,(W^l,bias^l),...(W^L,bias^L)]$, where $l = 1,\\dots,L$.\n",
    "\n",
    "let's add two more layers,\n",
    "\n",
    "\n",
    "arch: (3x2)-(4x3)-(1x4)"
   ]
  },
  {
   "cell_type": "code",
   "execution_count": 6,
   "id": "74b9e594",
   "metadata": {},
   "outputs": [],
   "source": [
    "W2 = np.array([\n",
    "    [0.1,0.2,0.1],\n",
    "    [0.1,0.4,0.2],\n",
    "    [0.2,0.5,0.4],\n",
    "    [0.3,0.1,0.3]\n",
    "])\n",
    "\n",
    "bias2  = np.array([0.2,0.3,0.5,0.3])"
   ]
  },
  {
   "cell_type": "code",
   "execution_count": 7,
   "id": "fa00ae80",
   "metadata": {},
   "outputs": [],
   "source": [
    "W3 = np.array([\n",
    "    [0.1,0.5,0.1,0.4],\n",
    "])\n",
    "\n",
    "bias3  = np.array([0.1])"
   ]
  },
  {
   "cell_type": "code",
   "execution_count": 8,
   "id": "c303b81d",
   "metadata": {},
   "outputs": [],
   "source": [
    "NN = [(W1,bias1),(W2,bias2),(W3,bias3)]"
   ]
  },
  {
   "cell_type": "markdown",
   "id": "fd62e603",
   "metadata": {},
   "source": [
    "### Forward Phase\n",
    "\n",
    "For the first hidden layer:\n",
    "$$\n",
    "z^1 = x \\cdot \\mathbf W^1 + bias^1 \\\\\n",
    "y^1 = g(z^1)\n",
    "$$\n",
    "For subsequent hidden layers:\n",
    "$$\n",
    "z^l = y^{l-1} \\cdot \\mathbf W^l + bias^l \\\\\n",
    "y^l = g(z^l)\n",
    "$$\n",
    "For the output layer:\n",
    "$$\n",
    "z^L =  y^{L-1} \\cdot W^L + bias^L \\\\\n",
    "y^L = g(z^L)\n",
    "$$\n",
    "\n",
    "for activation function lets use sigmoid($\\sigma$)"
   ]
  },
  {
   "cell_type": "code",
   "execution_count": 9,
   "id": "b82ebf81",
   "metadata": {},
   "outputs": [],
   "source": [
    "beta = 1 #global"
   ]
  },
  {
   "cell_type": "code",
   "execution_count": 10,
   "id": "6d7d128f",
   "metadata": {},
   "outputs": [],
   "source": [
    "def sigmoid(z):\n",
    "    return 1 / (1 + np.exp(-z*beta))"
   ]
  },
  {
   "cell_type": "code",
   "execution_count": 11,
   "id": "8ff51b18",
   "metadata": {},
   "outputs": [
    {
     "name": "stdout",
     "output_type": "stream",
     "text": [
      "[0 0]\n",
      "to\n",
      "[0.549834   0.52497919 0.59868766]\n",
      "to\n",
      "[0.60344688 0.66478969 0.75248902 0.66753438]\n",
      "to\n",
      "[0.69741158]\n"
     ]
    }
   ],
   "source": [
    "A = [X[0]]\n",
    "for Weight,b in NN:\n",
    "    print(A[-1],end = \"\\nto\\n\")\n",
    "    A.append(sigmoid(neuron_sum(A[-1],Weight,b)))\n",
    "    \n",
    "print(A[-1])"
   ]
  },
  {
   "cell_type": "markdown",
   "id": "03a13efb",
   "metadata": {},
   "source": [
    "### Error Calculation\n",
    "MSE,\n",
    "$$\n",
    "E = \\frac 12 \\sum_{i=1}^N (y^L_i - y_i)^2\n",
    "$$\n",
    "\n",
    "Using Mean Squared Error, lets compute the error between the predicted output and the desired output.\n"
   ]
  },
  {
   "cell_type": "code",
   "execution_count": 12,
   "id": "f6084fd2",
   "metadata": {},
   "outputs": [],
   "source": [
    "def MSE(t,y):\n",
    "    return np.sum((y-t)**2)/2"
   ]
  },
  {
   "cell_type": "code",
   "execution_count": 13,
   "id": "226915b1",
   "metadata": {},
   "outputs": [
    {
     "data": {
      "text/plain": [
       "0.24319145273888504"
      ]
     },
     "execution_count": 13,
     "metadata": {},
     "output_type": "execute_result"
    }
   ],
   "source": [
    "MSE(t[0],A[-1])"
   ]
  },
  {
   "cell_type": "markdown",
   "id": "c68aa6b0",
   "metadata": {},
   "source": [
    "### Backward Phase (Error back propagation)\n",
    "\n",
    "For the output layer:\n",
    "$$\n",
    "δ^L = (y^L - y) * g'(z^L)\n",
    "$$\n",
    "For the hidden layers:\n",
    "$$\n",
    "δ^l = g'(z^l) * W^{l+1} \\cdot δ^{i+1}\n",
    "$$\n",
    "where $δ^l$ is the error of neuron in the l-th layer, and g'(z) is the derivative of the activation function.\n",
    "\n",
    "\n",
    "The partial derivative of the error with respect to a weight is:\n",
    "$$\n",
    "\\frac {\\partial E}{\\partial W^l} = y_{l-1}^T * δ^l\n",
    "$$\n",
    "The partial derivative of the error with respect to a bias is:\n",
    "$$\n",
    "\\frac {\\partial E}{\\partial b^l} = δ^l\n",
    "$$"
   ]
  },
  {
   "cell_type": "code",
   "execution_count": 14,
   "id": "22378ab0",
   "metadata": {},
   "outputs": [],
   "source": [
    "def sigmoid_d(y): # here instead of the input z^l we directly given y^l because 𝜎' = 𝜎(z) * (1 - 𝜎(z))\n",
    "    return beta*y * (1 - y)"
   ]
  },
  {
   "cell_type": "code",
   "execution_count": 15,
   "id": "00dda2df",
   "metadata": {},
   "outputs": [
    {
     "data": {
      "text/plain": [
       "array([0.14717384])"
      ]
     },
     "execution_count": 15,
     "metadata": {},
     "output_type": "execute_result"
    }
   ],
   "source": [
    "delta_o = (A[-1] - t[0]) * sigmoid_d(A[-1])\n",
    "delta_o"
   ]
  },
  {
   "cell_type": "code",
   "execution_count": 16,
   "id": "7bc3aa15",
   "metadata": {},
   "outputs": [
    {
     "data": {
      "text/plain": [
       "array([0.00352185, 0.01639843, 0.0027411 , 0.01306505])"
      ]
     },
     "execution_count": 16,
     "metadata": {},
     "output_type": "execute_result"
    }
   ],
   "source": [
    "delta_h = (W3.T @ delta_o) * sigmoid_d(A[-2])\n",
    "delta_h"
   ]
  },
  {
   "cell_type": "code",
   "execution_count": 17,
   "id": "672e8d38",
   "metadata": {},
   "outputs": [
    {
     "data": {
      "text/plain": [
       "array([0.0015989 , 0.002479  , 0.00207773])"
      ]
     },
     "execution_count": 17,
     "metadata": {},
     "output_type": "execute_result"
    }
   ],
   "source": [
    "delta_i = (W2.T @ delta_h) * sigmoid_d(A[-3])\n",
    "delta_i"
   ]
  },
  {
   "cell_type": "code",
   "execution_count": 18,
   "id": "bd937985",
   "metadata": {
    "scrolled": true
   },
   "outputs": [
    {
     "data": {
      "text/plain": [
       "array([[0.08881159],\n",
       "       [0.09783965],\n",
       "       [0.1107467 ],\n",
       "       [0.0982436 ]])"
      ]
     },
     "execution_count": 18,
     "metadata": {},
     "output_type": "execute_result"
    }
   ],
   "source": [
    "dE_dW3 = A[-2].reshape(-1,1) * delta_o\n",
    "dE_dW3"
   ]
  },
  {
   "cell_type": "code",
   "execution_count": 19,
   "id": "414d03fe",
   "metadata": {},
   "outputs": [
    {
     "data": {
      "text/plain": [
       "array([[ 0.01118841,  0.40216035, -0.0107467 ,  0.3017564 ]])"
      ]
     },
     "execution_count": 19,
     "metadata": {},
     "output_type": "execute_result"
    }
   ],
   "source": [
    "W3 - dE_dW3.T"
   ]
  },
  {
   "cell_type": "code",
   "execution_count": 20,
   "id": "e24bf028",
   "metadata": {},
   "outputs": [
    {
     "data": {
      "text/plain": [
       "(array([0.549834  , 0.52497919, 0.59868766]),\n",
       " array([[0.549834  ],\n",
       "        [0.52497919],\n",
       "        [0.59868766]]))"
      ]
     },
     "execution_count": 20,
     "metadata": {},
     "output_type": "execute_result"
    }
   ],
   "source": [
    "A[-3],A[-3].reshape(-1,1)"
   ]
  },
  {
   "cell_type": "code",
   "execution_count": 21,
   "id": "c7644217",
   "metadata": {
    "scrolled": true
   },
   "outputs": [
    {
     "data": {
      "text/plain": [
       "array([[0.00193643, 0.00901641, 0.00150715, 0.00718361],\n",
       "       [0.0018489 , 0.00860883, 0.00143902, 0.00685888],\n",
       "       [0.00210849, 0.00981754, 0.00164106, 0.00782188]])"
      ]
     },
     "execution_count": 21,
     "metadata": {},
     "output_type": "execute_result"
    }
   ],
   "source": [
    "dE_dW2 = A[-3].reshape(-1,1) * delta_h\n",
    "dE_dW2"
   ]
  },
  {
   "cell_type": "code",
   "execution_count": 22,
   "id": "025f8bc2",
   "metadata": {},
   "outputs": [
    {
     "data": {
      "text/plain": [
       "array([[0., 0., 0.],\n",
       "       [0., 0., 0.]])"
      ]
     },
     "execution_count": 22,
     "metadata": {},
     "output_type": "execute_result"
    }
   ],
   "source": [
    "dE_dW1 = A[-4].reshape(-1,1) * delta_i\n",
    "dE_dW1"
   ]
  },
  {
   "cell_type": "markdown",
   "id": "c896c047",
   "metadata": {},
   "source": [
    "# Full Implementation"
   ]
  },
  {
   "cell_type": "code",
   "execution_count": 23,
   "id": "6eeedd2a",
   "metadata": {},
   "outputs": [],
   "source": [
    "import matplotlib.pyplot as plt"
   ]
  },
  {
   "cell_type": "code",
   "execution_count": 24,
   "id": "143fc5f9",
   "metadata": {},
   "outputs": [],
   "source": [
    "def init_network(arch):\n",
    "    return [ (\n",
    "        np.random.randn(arch[i],arch[i-1]) * np.sqrt(1 / arch[i-1]),\n",
    "        np.random.rand(arch[i])\n",
    "    ) for i in range(1,len(arch))]"
   ]
  },
  {
   "cell_type": "code",
   "execution_count": 25,
   "id": "a4bc838c",
   "metadata": {},
   "outputs": [],
   "source": [
    "def forward(x,NN):\n",
    "    A = [x]\n",
    "    for w,b in NN:\n",
    "        A.append(sigmoid(neuron_sum(A[-1],w,b)))\n",
    "    return A"
   ]
  },
  {
   "cell_type": "code",
   "execution_count": 26,
   "id": "d789f2dd",
   "metadata": {},
   "outputs": [],
   "source": [
    "def backward(A,NN,t):\n",
    "    L = len(NN)\n",
    "    deltas = [None]* L\n",
    "    dE_dW = [None] * L\n",
    "    L-=1\n",
    "    \n",
    "    for i in range(L,-1,-1):\n",
    "        if i != L:deltas[i] = (NN[i+1][0].T @ deltas[i+1]) * sigmoid_d(A[i+1])\n",
    "        else: deltas[i] = (A[i+1] - t) * sigmoid_d(A[i+1])\n",
    "        \n",
    "        dE_dW[i] = (A[i].reshape(-1,1) * deltas[i]).T\n",
    "    return deltas, dE_dW"
   ]
  },
  {
   "cell_type": "code",
   "execution_count": 27,
   "id": "7184fe0c",
   "metadata": {},
   "outputs": [],
   "source": [
    "def update_weights(NN,deltas,dE_dw,eta):\n",
    "    for i in range(len(NN)):\n",
    "        W,b = NN[i]\n",
    "        W -= eta * dE_dw[i]\n",
    "        b -= eta * deltas[i]"
   ]
  },
  {
   "cell_type": "code",
   "execution_count": 28,
   "id": "af0867b9",
   "metadata": {},
   "outputs": [],
   "source": [
    "def predict(X,NN):\n",
    "    return np.array([np.round(forward(x,NN)[-1]) for x in X])"
   ]
  },
  {
   "cell_type": "markdown",
   "id": "966fde54",
   "metadata": {},
   "source": [
    "### Neural Network Training using SGD algorithm"
   ]
  },
  {
   "cell_type": "code",
   "execution_count": 29,
   "id": "71479409",
   "metadata": {},
   "outputs": [],
   "source": [
    "def train(X,y,NN,epoch=1000,eta=0.01,errorcal=10):\n",
    "    mse_l = []\n",
    "    record = False\n",
    "    for i in range(epoch):\n",
    "        if i%errorcal == 0: \n",
    "            record = True\n",
    "            mse=0\n",
    "            \n",
    "        for x,t in zip(X,y):\n",
    "            A = forward(x,NN)\n",
    "            d,gra = backward(A,NN,t)\n",
    "            update_weights(NN,d,gra,eta)\n",
    "            if record: mse += MSE(A[-1],t)\n",
    "        if record:\n",
    "            mse_l.append(mse)\n",
    "            record = False\n",
    "\n",
    "    fig = plt.figure(figsize=(5,5))\n",
    "    plt.plot(range(len(mse_l)),mse_l)\n",
    "    plt.xlabel(f\"Epoch*{errorcal}\")\n",
    "    plt.ylabel(\"MSE\")\n",
    "    plt.plot()"
   ]
  },
  {
   "cell_type": "markdown",
   "id": "fdbe06a7",
   "metadata": {},
   "source": [
    "## Model XOR function "
   ]
  },
  {
   "cell_type": "code",
   "execution_count": 30,
   "id": "2ef01b5e",
   "metadata": {},
   "outputs": [],
   "source": [
    "XOR = init_network([2,3,1])"
   ]
  },
  {
   "cell_type": "markdown",
   "id": "da43db86",
   "metadata": {},
   "source": [
    "predictions before training the network"
   ]
  },
  {
   "cell_type": "code",
   "execution_count": 31,
   "id": "b86ae550",
   "metadata": {},
   "outputs": [
    {
     "data": {
      "text/plain": [
       "array([[1.],\n",
       "       [1.],\n",
       "       [1.],\n",
       "       [1.]])"
      ]
     },
     "execution_count": 31,
     "metadata": {},
     "output_type": "execute_result"
    }
   ],
   "source": [
    "predict(X,XOR)"
   ]
  },
  {
   "cell_type": "code",
   "execution_count": 32,
   "id": "87b22865",
   "metadata": {},
   "outputs": [
    {
     "data": {
      "image/png": "[encoded data removed]",
      "text/plain": [
       "<Figure size 500x500 with 1 Axes>"
      ]
     },
     "metadata": {},
     "output_type": "display_data"
    }
   ],
   "source": [
    "train(X,t,XOR,eta=0.25,errorcal=10,epoch=1000)"
   ]
  },
  {
   "cell_type": "code",
   "execution_count": 33,
   "id": "0b7a896a",
   "metadata": {},
   "outputs": [
    {
     "data": {
      "text/plain": [
       "array([[0.],\n",
       "       [1.],\n",
       "       [1.],\n",
       "       [0.]])"
      ]
     },
     "execution_count": 33,
     "metadata": {},
     "output_type": "execute_result"
    }
   ],
   "source": [
    "predict(X,XOR)"
   ]
  },
  {
   "cell_type": "markdown",
   "id": "5693c89c",
   "metadata": {},
   "source": [
    "## Model breast cancer dataset"
   ]
  },
  {
   "cell_type": "code",
   "execution_count": 34,
   "id": "4d65ae01",
   "metadata": {},
   "outputs": [],
   "source": [
    "from sklearn.datasets import load_breast_cancer\n",
    "from sklearn.metrics import accuracy_score\n",
    "bc = load_breast_cancer()"
   ]
  },
  {
   "cell_type": "code",
   "execution_count": 35,
   "id": "1199d11c",
   "metadata": {},
   "outputs": [],
   "source": [
    "from sklearn.model_selection import train_test_split\n",
    "\n",
    "X_train,X_test,y_train,y_test = train_test_split(bc.data,bc.target,test_size=0.3,shuffle=True)"
   ]
  },
  {
   "cell_type": "code",
   "execution_count": 36,
   "id": "9316f48e",
   "metadata": {},
   "outputs": [
    {
     "data": {
      "text/plain": [
       "(171, 30)"
      ]
     },
     "execution_count": 36,
     "metadata": {},
     "output_type": "execute_result"
    }
   ],
   "source": [
    "X_test.shape"
   ]
  },
  {
   "cell_type": "code",
   "execution_count": 37,
   "id": "83790ad4",
   "metadata": {},
   "outputs": [],
   "source": [
    "bc_NN = init_network([30,10,4,1])"
   ]
  },
  {
   "cell_type": "code",
   "execution_count": 38,
   "id": "f9aa03c9",
   "metadata": {},
   "outputs": [],
   "source": [
    "beta = 0.3 # set global constant"
   ]
  },
  {
   "cell_type": "code",
   "execution_count": 39,
   "id": "e31df409",
   "metadata": {},
   "outputs": [
    {
     "name": "stdout",
     "output_type": "stream",
     "text": [
      "Accuracy before training: 0.6374269005847953\n"
     ]
    }
   ],
   "source": [
    "y_pred = predict(X_test,bc_NN)\n",
    "print(f\"Accuracy before training: {accuracy_score(y_test,y_pred)}\")"
   ]
  },
  {
   "cell_type": "code",
   "execution_count": 40,
   "id": "28ef3488",
   "metadata": {},
   "outputs": [
    {
     "name": "stderr",
     "output_type": "stream",
     "text": [
      "/tmp/ipykernel_26094/854337207.py:2: RuntimeWarning: overflow encountered in exp\n",
      "  return 1 / (1 + np.exp(-z*beta))\n"
     ]
    },
    {
     "data": {
      "image/png": "[encoded data removed]",
      "text/plain": [
       "<Figure size 500x500 with 1 Axes>"
      ]
     },
     "metadata": {},
     "output_type": "display_data"
    }
   ],
   "source": [
    "train(X_train,y_train,bc_NN,eta=0.01,epoch=1000,errorcal=10)"
   ]
  },
  {
   "cell_type": "code",
   "execution_count": 41,
   "id": "db8f300d",
   "metadata": {},
   "outputs": [
    {
     "name": "stdout",
     "output_type": "stream",
     "text": [
      "Accuracy after training: 0.9005847953216374\n"
     ]
    },
    {
     "name": "stderr",
     "output_type": "stream",
     "text": [
      "/tmp/ipykernel_26094/854337207.py:2: RuntimeWarning: overflow encountered in exp\n",
      "  return 1 / (1 + np.exp(-z*beta))\n"
     ]
    }
   ],
   "source": [
    "y_pred = predict(X_test,bc_NN)\n",
    "print(f\"Accuracy after training: {accuracy_score(y_test,y_pred)}\")"
   ]
  }
 ],
 "metadata": {
  "kernelspec": {
   "display_name": "Python 3 (ipykernel)",
   "language": "python",
   "name": "python3"
  },
  "language_info": {
   "codemirror_mode": {
    "name": "ipython",
    "version": 3
   },
   "file_extension": ".py",
   "mimetype": "text/x-python",
   "name": "python",
   "nbconvert_exporter": "python",
   "pygments_lexer": "ipython3",
   "version": "3.10.10"
  }
 },
 "nbformat": 4,
 "nbformat_minor": 5
}
