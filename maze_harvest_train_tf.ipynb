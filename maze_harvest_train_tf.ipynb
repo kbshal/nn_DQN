{
 "cells": [
  {
   "cell_type": "markdown",
   "id": "74a5fe73",
   "metadata": {
    "id": "74a5fe73"
   },
   "source": [
    "# Maze Harvest\n",
    "\n",
    " Maze Harvest is an environment where an agent is placed in a 2D grid with randomly spawning fruits. The agent can collect two types of fruits, red fruits which have a power of 10, and green fruits which have a power of 5. \n",
    " \n",
    " If the agent does not have down syndrome, when it consumes a red fruit it can grow its body size up to the floor value of (X+Y)/2, where X and Y are the shape of the 2D grid.\n",
    "\n",
    "The agent has limited visibility and can only see the fruits and walls within a window of n units in four directions - up, down, left, and right. However, the agent has the ability to smell the fruits over the grid in these directions: front left, front right, back left & back right (Like four Venn diagrams, each intersecting with two adjacent sets but not center). \n",
    "\n",
    "\n",
    "The goal of the agent is to eat as many fruits as possible and to survive the maze.\n",
    "\n",
    "### Environment and its limits\n",
    "> $Avg = \\lfloor (X+Y)/2 \\rfloor$\n",
    "\n",
    "\n",
    "- Environment size limit: $10\\le X,Y \\le 50$, if not under limit size set to 10\n",
    "- Maximum Fruit Spawn: $Avg$\n",
    "- Number of Walls: limit $\\le 30\\%$ of the total cells ($20 - 25\\%$ is the best range)\n",
    "- Maximum Body size: $Avg$\n",
    "- Default Maximum Moves Alloweded: 10000 (we can change it)\n",
    "- Action Space: 4, 0 left, 1 up, 2 right, 3 down.\n",
    "- Default Window Size: 10, window size should be less than or equal to $Avg$, or else default will be used.\n",
    "- During reset, we can set the wall proportion and enable or disable down syndrome(nds - no down syndrome), default 0.25 and falls.\n",
    "- State Size 16, One hot encoded direction (4), Danger and Food (8) each 4 directions, Smell of fruits (4).\n",
    "\n",
    "### Reward System\n",
    "- default $0 \\to Reward$\n",
    "- if agent hit body or wall or max moves reached $-10 \\to Reward$\n",
    "- else if agent ate a fruit $10*power + Reward \\to Reward$\n",
    "- then the reward poisoned by powers of fruits already in the environment $(Reward - \\frac {1}{10}\\sum^F_i power_i)  \\to Reward$\n",
    "\n",
    "- If it reaches maximum moves or, body or wall hit, the game is done. "
   ]
  },
  {
   "cell_type": "markdown",
   "id": "7e4c2a01",
   "metadata": {},
   "source": [
    "\n",
    "**File:** `maze_harvest.py`\n",
    "- `Environment`: Initialize new environment with given parameters.\n",
    "- `play_frames`: Require lamda function to clear shell, input: recorded frames.\n",
    "    - play frames example: `play_frames(frames,lambda : clear_output(wait=True),sleep=0.3)`\n",
    "    \n",
    " - **Utils**:\n",
    "     - Class: `ActionSpace`.\n",
    "     - Functions: `euclidean`,`gaussian_kernel` & `nxt_direction`\n",
    "     - Variables: `color_map` & `directions`\n",
    "     \n",
    " **File:** `dqn_tf.py`\n",
    "  - `DQN`: Requires Architecture & Activation Functions (other parameters are set to default values)\n",
    "  - **Utils**:\n",
    "      - Classes: `ReplayMemory` & `QNetwork`"
   ]
  },
  {
   "cell_type": "code",
   "execution_count": 1,
   "id": "48011868",
   "metadata": {
    "id": "48011868"
   },
   "outputs": [],
   "source": [
    "from maze_harvest import Environment, play_frames\n",
    "from dqn_tf import DQN\n",
    "import numpy as np"
   ]
  },
  {
   "cell_type": "code",
   "execution_count": 2,
   "id": "d9141f71",
   "metadata": {
    "id": "d9141f71"
   },
   "outputs": [],
   "source": [
    "from time import sleep\n",
    "from IPython.display import clear_output\n",
    "def play(net,env,slow=0.1,walls=.2,nds=False,record=False,print_now=True):\n",
    "    nxt_state = env.reset(walls=walls,nds=nds)\n",
    "    done = False\n",
    "    if record: env.record(True)\n",
    "    env.render(print_now)\n",
    "    while not done:\n",
    "        state = nxt_state\n",
    "        sleep(slow)\n",
    "        action = np.argmax(net(np.array([state])))\n",
    "        nxt_state,r,done = env.step(action)\n",
    "        clear_output(wait=True)\n",
    "        env.render(print_now)\n",
    "    \n",
    "    if record:\n",
    "        return env.record(False)"
   ]
  },
  {
   "cell_type": "code",
   "execution_count": 3,
   "id": "14b7e68b",
   "metadata": {
    "id": "14b7e68b"
   },
   "outputs": [],
   "source": [
    "def train(agent,env,num_episodes=100,batch_size=32,C=100,ep=10,walls=.2,nds=False):\n",
    "    steps=0\n",
    "    for i in range(1,num_episodes+1):\n",
    "        try:\n",
    "            episode_loss = 0\n",
    "            t = 0\n",
    "\n",
    "            # Sample Phase\n",
    "            agent.decay_epsilon()\n",
    "            nxt_state = env.reset(walls=walls,nds=nds)\n",
    "            done = False\n",
    "            while not done:\n",
    "                state = nxt_state\n",
    "                action = agent.e_greedy(state,env)\n",
    "                nxt_state,reward,done = env.step(action)\n",
    "\n",
    "                # Learning Phase\n",
    "                episode_loss += agent.learn((state,action,reward,nxt_state,done),batch_size)\n",
    "                steps +=1\n",
    "                t+=1\n",
    "\n",
    "                if steps % C == 0: agent.update_target_network()\n",
    "\n",
    "            if i%ep==0: print(f\"Episode:{i} Score:{env.score} Moves:{env.move_count} Loss:{episode_loss/t}\")\n",
    "        except KeyboardInterrupt:\n",
    "            print(f\"Training Terminated at Episode {i}\")\n",
    "            return "
   ]
  },
  {
   "cell_type": "markdown",
   "id": "6a8df6b1",
   "metadata": {
    "id": "6a8df6b1"
   },
   "source": [
    "## Agent Network Init\n",
    "\n",
    "Architecture: 16->12($Lin$)->6($reLU$)->4($Lin$)\n",
    "\n",
    "HyperParameters: `eta = 5e-4, epsilon=0.7,epsilon_min=0.01`"
   ]
  },
  {
   "cell_type": "code",
   "execution_count": 4,
   "id": "49a2b39b",
   "metadata": {
    "id": "49a2b39b"
   },
   "outputs": [],
   "source": [
    "arch = [16,12,8,4]\n",
    "af = [\"linear\",\"relu\",\"linear\"]\n",
    "agent = DQN(arch,af,eta=5e-4,epsilon=0.7,epsilon_min=0.01)"
   ]
  },
  {
   "cell_type": "markdown",
   "id": "b38b7ac9",
   "metadata": {
    "id": "b38b7ac9"
   },
   "source": [
    "## Two different Environments\n",
    "\n",
    "env1 = 10x10\n",
    "\n",
    "env2 = 20x20"
   ]
  },
  {
   "cell_type": "code",
   "execution_count": 5,
   "id": "ced01212",
   "metadata": {
    "id": "ced01212"
   },
   "outputs": [],
   "source": [
    "env1 = Environment(max_moves=50)"
   ]
  },
  {
   "cell_type": "code",
   "execution_count": 6,
   "id": "191b0c4b",
   "metadata": {
    "id": "191b0c4b"
   },
   "outputs": [],
   "source": [
    "env2 = Environment(20,20,max_moves=100)"
   ]
  },
  {
   "cell_type": "markdown",
   "id": "a7a361a8",
   "metadata": {
    "id": "a7a361a8"
   },
   "source": [
    "## Agent Training"
   ]
  },
  {
   "cell_type": "code",
   "execution_count": 7,
   "id": "9e930eea",
   "metadata": {
    "colab": {
     "base_uri": "https://localhost:8080/"
    },
    "id": "9e930eea",
    "outputId": "6ef3eab5-241d-4079-8afb-df1afae1e5bb"
   },
   "outputs": [
    {
     "name": "stdout",
     "output_type": "stream",
     "text": [
      "\u001b[1;32;42m ! \u001b[0m\u001b[1;32;42m ! \u001b[0m\u001b[1;37;47m   \u001b[0m\u001b[1;37;47m   \u001b[0m\u001b[1;37;47m   \u001b[0m\u001b[1;35;47m @ \u001b[0m\u001b[0;30;40m   \u001b[0m\u001b[0;30;40m   \u001b[0m\u001b[1;31;41m ! \u001b[0m\u001b[1;31;41m ! \u001b[0m\n",
      "\u001b[1;37;47m   \u001b[0m\u001b[1;37;47m   \u001b[0m\u001b[0;30;40m   \u001b[0m\u001b[0;30;40m   \u001b[0m\u001b[1;37;47m   \u001b[0m\u001b[0;30;40m   \u001b[0m\u001b[1;37;47m   \u001b[0m\u001b[0;30;40m   \u001b[0m\u001b[0;30;40m   \u001b[0m\u001b[0;30;40m   \u001b[0m\n",
      "\u001b[1;37;47m   \u001b[0m\u001b[1;37;47m   \u001b[0m\u001b[0;30;40m   \u001b[0m\u001b[1;37;47m   \u001b[0m\u001b[1;37;47m   \u001b[0m\u001b[1;32;42m ! \u001b[0m\u001b[1;37;47m   \u001b[0m\u001b[1;37;47m   \u001b[0m\u001b[0;30;40m   \u001b[0m\u001b[1;37;47m   \u001b[0m\n",
      "\u001b[1;37;47m   \u001b[0m\u001b[0;30;40m   \u001b[0m\u001b[0;30;40m   \u001b[0m\u001b[0;30;40m   \u001b[0m\u001b[0;30;40m   \u001b[0m\u001b[1;37;47m   \u001b[0m\u001b[0;30;40m   \u001b[0m\u001b[1;37;47m   \u001b[0m\u001b[1;37;47m   \u001b[0m\u001b[1;37;47m   \u001b[0m\n",
      "\u001b[1;37;47m   \u001b[0m\u001b[1;37;47m   \u001b[0m\u001b[1;31;41m ! \u001b[0m\u001b[0;30;40m   \u001b[0m\u001b[1;37;47m   \u001b[0m\u001b[0;30;40m   \u001b[0m\u001b[1;37;47m   \u001b[0m\u001b[1;37;47m   \u001b[0m\u001b[1;37;47m   \u001b[0m\u001b[1;37;47m   \u001b[0m\n",
      "\u001b[1;32;42m ! \u001b[0m\u001b[0;30;40m   \u001b[0m\u001b[1;37;47m   \u001b[0m\u001b[1;37;47m   \u001b[0m\u001b[0;30;40m   \u001b[0m\u001b[1;37;47m   \u001b[0m\u001b[1;37;47m   \u001b[0m\u001b[1;37;47m   \u001b[0m\u001b[1;37;47m   \u001b[0m\u001b[0;30;40m   \u001b[0m\n",
      "\u001b[1;31;41m ! \u001b[0m\u001b[1;37;47m   \u001b[0m\u001b[1;37;47m   \u001b[0m\u001b[1;37;47m   \u001b[0m\u001b[1;37;47m   \u001b[0m\u001b[1;37;47m   \u001b[0m\u001b[1;37;47m   \u001b[0m\u001b[1;37;47m   \u001b[0m\u001b[1;37;47m   \u001b[0m\u001b[1;37;47m   \u001b[0m\n",
      "\u001b[1;37;47m   \u001b[0m\u001b[0;30;40m   \u001b[0m\u001b[1;37;47m   \u001b[0m\u001b[1;37;47m   \u001b[0m\u001b[1;37;47m   \u001b[0m\u001b[1;37;47m   \u001b[0m\u001b[1;37;47m   \u001b[0m\u001b[1;37;47m   \u001b[0m\u001b[1;37;47m   \u001b[0m\u001b[1;37;47m   \u001b[0m\n",
      "\u001b[1;37;47m   \u001b[0m\u001b[0;30;40m   \u001b[0m\u001b[1;37;47m   \u001b[0m\u001b[1;37;47m   \u001b[0m\u001b[1;37;47m   \u001b[0m\u001b[1;37;47m   \u001b[0m\u001b[1;37;47m   \u001b[0m\u001b[0;30;40m   \u001b[0m\u001b[1;37;47m   \u001b[0m\u001b[1;37;47m   \u001b[0m\n",
      "\u001b[1;37;47m   \u001b[0m\u001b[1;37;47m   \u001b[0m\u001b[1;37;47m   \u001b[0m\u001b[0;30;40m   \u001b[0m\u001b[0;30;40m   \u001b[0m\u001b[1;37;47m   \u001b[0m\u001b[1;37;47m   \u001b[0m\u001b[1;37;47m   \u001b[0m\u001b[1;37;47m   \u001b[0m\u001b[1;37;47m   \u001b[0m\n",
      "Score: 0 Moves: 8 Direction:2\n"
     ]
    }
   ],
   "source": [
    "before_train = play(agent.Q,env1,record=True,walls=.25) # before training"
   ]
  },
  {
   "cell_type": "markdown",
   "id": "68cea3d3",
   "metadata": {
    "id": "68cea3d3"
   },
   "source": [
    "### 1) walls 1% (to give more chance to eat fruits)"
   ]
  },
  {
   "cell_type": "code",
   "execution_count": 8,
   "id": "628fb1ad",
   "metadata": {
    "colab": {
     "base_uri": "https://localhost:8080/"
    },
    "id": "628fb1ad",
    "outputId": "4f6abcd7-0500-4cfa-8b2d-dcbc431f3ec1"
   },
   "outputs": [
    {
     "name": "stdout",
     "output_type": "stream",
     "text": [
      "Episode:100 Score:9 Moves:50 Loss:996.9736236572265\n",
      "Episode:200 Score:12 Moves:50 Loss:1072.8812066650391\n",
      "Episode:300 Score:3 Moves:14 Loss:1157.971444266183\n",
      "Episode:400 Score:4 Moves:21 Loss:1433.3675391787574\n",
      "Episode:500 Score:13 Moves:50 Loss:1294.1780529785156\n"
     ]
    }
   ],
   "source": [
    "train(agent,env1,500,32,C=20,ep=100,walls=.01)"
   ]
  },
  {
   "cell_type": "code",
   "execution_count": 9,
   "id": "7e9b8e2c",
   "metadata": {
    "colab": {
     "base_uri": "https://localhost:8080/"
    },
    "id": "7e9b8e2c",
    "outputId": "7e2ae261-701e-432f-b558-6286268efdb4"
   },
   "outputs": [
    {
     "name": "stdout",
     "output_type": "stream",
     "text": [
      "\u001b[1;37;47m   \u001b[0m\u001b[0;30;40m   \u001b[0m\u001b[1;32;42m ! \u001b[0m\u001b[1;37;47m   \u001b[0m\u001b[1;37;47m   \u001b[0m\u001b[1;37;47m   \u001b[0m\u001b[1;37;47m   \u001b[0m\u001b[1;37;47m   \u001b[0m\u001b[1;37;47m   \u001b[0m\u001b[1;37;47m   \u001b[0m\n",
      "\u001b[1;37;47m   \u001b[0m\u001b[1;37;47m   \u001b[0m\u001b[1;37;47m   \u001b[0m\u001b[1;37;47m   \u001b[0m\u001b[1;37;47m   \u001b[0m\u001b[1;37;47m   \u001b[0m\u001b[0;30;40m   \u001b[0m\u001b[1;37;47m   \u001b[0m\u001b[1;37;47m   \u001b[0m\u001b[1;37;47m   \u001b[0m\n",
      "\u001b[1;37;47m   \u001b[0m\u001b[1;37;47m   \u001b[0m\u001b[1;37;47m   \u001b[0m\u001b[1;37;47m   \u001b[0m\u001b[1;37;47m   \u001b[0m\u001b[1;32;42m ! \u001b[0m\u001b[1;37;47m   \u001b[0m\u001b[1;37;47m   \u001b[0m\u001b[1;37;47m   \u001b[0m\u001b[1;32;42m ! \u001b[0m\n",
      "\u001b[1;37;47m   \u001b[0m\u001b[1;37;47m   \u001b[0m\u001b[1;37;47m   \u001b[0m\u001b[1;37;47m   \u001b[0m\u001b[1;37;47m   \u001b[0m\u001b[1;37;47m   \u001b[0m\u001b[1;37;47m   \u001b[0m\u001b[1;37;47m   \u001b[0m\u001b[1;37;47m   \u001b[0m\u001b[1;37;47m   \u001b[0m\n",
      "\u001b[1;37;47m   \u001b[0m\u001b[1;37;47m   \u001b[0m\u001b[1;32;42m ! \u001b[0m\u001b[1;37;47m   \u001b[0m\u001b[1;37;47m   \u001b[0m\u001b[1;37;47m   \u001b[0m\u001b[1;37;47m   \u001b[0m\u001b[1;37;47m   \u001b[0m\u001b[1;37;47m   \u001b[0m\u001b[1;37;47m   \u001b[0m\n",
      "\u001b[1;37;47m   \u001b[0m\u001b[1;37;47m   \u001b[0m\u001b[0;30;40m   \u001b[0m\u001b[1;37;47m   \u001b[0m\u001b[1;37;47m   \u001b[0m\u001b[1;37;47m   \u001b[0m\u001b[1;37;47m   \u001b[0m\u001b[1;37;47m   \u001b[0m\u001b[1;37;47m   \u001b[0m\u001b[1;37;47m   \u001b[0m\n",
      "\u001b[1;37;47m   \u001b[0m\u001b[0;30;40m   \u001b[0m\u001b[1;35;47m @ \u001b[0m\u001b[1;37;47m   \u001b[0m\u001b[1;37;47m   \u001b[0m\u001b[1;37;47m   \u001b[0m\u001b[1;31;41m ! \u001b[0m\u001b[1;37;47m   \u001b[0m\u001b[1;37;47m   \u001b[0m\u001b[1;32;42m ! \u001b[0m\n",
      "\u001b[1;32;42m ! \u001b[0m\u001b[1;37;47m   \u001b[0m\u001b[1;37;47m   \u001b[0m\u001b[1;37;47m   \u001b[0m\u001b[1;37;47m   \u001b[0m\u001b[1;37;47m   \u001b[0m\u001b[1;37;47m   \u001b[0m\u001b[1;37;47m   \u001b[0m\u001b[1;37;47m   \u001b[0m\u001b[1;31;41m ! \u001b[0m\n",
      "\u001b[1;37;47m   \u001b[0m\u001b[1;32;42m ! \u001b[0m\u001b[1;37;47m   \u001b[0m\u001b[1;37;47m   \u001b[0m\u001b[1;37;47m   \u001b[0m\u001b[1;37;47m   \u001b[0m\u001b[1;37;47m   \u001b[0m\u001b[1;37;47m   \u001b[0m\u001b[1;37;47m   \u001b[0m\u001b[1;37;47m   \u001b[0m\n",
      "\u001b[1;37;47m   \u001b[0m\u001b[1;37;47m   \u001b[0m\u001b[1;32;42m ! \u001b[0m\u001b[1;37;47m   \u001b[0m\u001b[1;37;47m   \u001b[0m\u001b[1;37;47m   \u001b[0m\u001b[1;37;47m   \u001b[0m\u001b[0;30;40m   \u001b[0m\u001b[1;37;47m   \u001b[0m\u001b[1;37;47m   \u001b[0m\n",
      "Score: 13 Moves: 39 Direction:1\n"
     ]
    }
   ],
   "source": [
    "play(agent.Q,env1,walls=0.05)"
   ]
  },
  {
   "cell_type": "markdown",
   "id": "f08a6f69",
   "metadata": {
    "id": "f08a6f69"
   },
   "source": [
    "### 2) walls 20% (to learn how to avoid walls and to eat)"
   ]
  },
  {
   "cell_type": "code",
   "execution_count": 10,
   "id": "01d8a246",
   "metadata": {
    "colab": {
     "base_uri": "https://localhost:8080/"
    },
    "id": "01d8a246",
    "outputId": "7c20700e-5f8f-4ff3-c6ad-12f8475d323c"
   },
   "outputs": [
    {
     "name": "stdout",
     "output_type": "stream",
     "text": [
      "Episode:100 Score:0 Moves:2 Loss:2453.2225341796875\n",
      "Episode:200 Score:0 Moves:1 Loss:955.8154907226562\n",
      "Episode:300 Score:0 Moves:2 Loss:2321.2350463867188\n",
      "Episode:400 Score:0 Moves:2 Loss:1181.4935913085938\n",
      "Episode:500 Score:0 Moves:2 Loss:1683.8015747070312\n",
      "Episode:600 Score:0 Moves:1 Loss:931.844482421875\n",
      "Episode:700 Score:0 Moves:2 Loss:1386.17919921875\n",
      "Episode:800 Score:1 Moves:5 Loss:1029.0156127929688\n",
      "Episode:900 Score:0 Moves:3 Loss:1204.8654378255208\n",
      "Episode:1000 Score:0 Moves:2 Loss:1068.2022399902344\n",
      "Episode:1100 Score:1 Moves:9 Loss:1178.8419121636284\n",
      "Episode:1200 Score:0 Moves:2 Loss:1151.8776550292969\n",
      "Episode:1300 Score:0 Moves:1 Loss:757.3826293945312\n",
      "Episode:1400 Score:1 Moves:7 Loss:697.5479082380023\n",
      "Episode:1500 Score:8 Moves:27 Loss:799.1183347348814\n",
      "Episode:1600 Score:0 Moves:1 Loss:939.2730712890625\n",
      "Episode:1700 Score:0 Moves:2 Loss:513.3000030517578\n",
      "Episode:1800 Score:14 Moves:46 Loss:796.6308613652768\n",
      "Episode:1900 Score:10 Moves:50 Loss:757.2430194091797\n",
      "Episode:2000 Score:5 Moves:23 Loss:803.3400706415591\n",
      "Episode:2100 Score:4 Moves:25 Loss:725.5580688476563\n",
      "Episode:2200 Score:8 Moves:26 Loss:759.8615886981671\n",
      "Episode:2300 Score:0 Moves:1 Loss:1184.7392578125\n",
      "Episode:2400 Score:0 Moves:3 Loss:886.6635131835938\n",
      "Episode:2500 Score:0 Moves:4 Loss:661.5681915283203\n",
      "Episode:2600 Score:2 Moves:16 Loss:888.0136451721191\n",
      "Episode:2700 Score:0 Moves:1 Loss:310.3822326660156\n",
      "Episode:2800 Score:0 Moves:3 Loss:995.7273356119791\n",
      "Episode:2900 Score:8 Moves:50 Loss:1089.6052478027343\n",
      "Episode:3000 Score:4 Moves:18 Loss:1063.3648647732205\n",
      "Episode:3100 Score:0 Moves:1 Loss:821.1015625\n",
      "Episode:3200 Score:11 Moves:41 Loss:1141.1946306926448\n",
      "Episode:3300 Score:13 Moves:50 Loss:1145.6261260986328\n",
      "Episode:3400 Score:13 Moves:50 Loss:1040.3973986816407\n",
      "Episode:3500 Score:0 Moves:6 Loss:889.7320963541666\n",
      "Episode:3600 Score:1 Moves:17 Loss:1092.39255658318\n",
      "Episode:3700 Score:0 Moves:7 Loss:1201.741934640067\n",
      "Episode:3800 Score:14 Moves:50 Loss:1075.4918334960937\n",
      "Episode:3900 Score:10 Moves:50 Loss:1045.9342791748047\n",
      "Episode:4000 Score:0 Moves:1 Loss:1047.3350830078125\n"
     ]
    }
   ],
   "source": [
    "train(agent,env1,4000,42,C=50,ep=100,walls=.20)"
   ]
  },
  {
   "cell_type": "code",
   "execution_count": 11,
   "id": "c66a2068",
   "metadata": {
    "colab": {
     "base_uri": "https://localhost:8080/"
    },
    "id": "c66a2068",
    "outputId": "4f9d92f4-412f-49ae-f3c3-7f8469b660b3"
   },
   "outputs": [
    {
     "name": "stdout",
     "output_type": "stream",
     "text": [
      "\u001b[1;37;47m   \u001b[0m\u001b[1;37;47m   \u001b[0m\u001b[1;32;42m ! \u001b[0m\u001b[0;30;40m   \u001b[0m\u001b[0;30;40m   \u001b[0m\u001b[1;37;47m   \u001b[0m\u001b[1;37;47m   \u001b[0m\u001b[1;37;47m   \u001b[0m\u001b[1;37;47m   \u001b[0m\u001b[1;37;47m   \u001b[0m\n",
      "\u001b[1;37;47m   \u001b[0m\u001b[1;37;47m   \u001b[0m\u001b[1;37;47m   \u001b[0m\u001b[1;37;47m   \u001b[0m\u001b[1;37;47m   \u001b[0m\u001b[1;37;47m   \u001b[0m\u001b[0;30;40m   \u001b[0m\u001b[1;32;42m ! \u001b[0m\u001b[1;37;47m   \u001b[0m\u001b[1;37;47m   \u001b[0m\n",
      "\u001b[1;37;47m   \u001b[0m\u001b[1;37;47m   \u001b[0m\u001b[0;30;40m   \u001b[0m\u001b[1;37;47m   \u001b[0m\u001b[1;32;42m ! \u001b[0m\u001b[1;37;47m   \u001b[0m\u001b[1;37;47m   \u001b[0m\u001b[1;32;42m ! \u001b[0m\u001b[1;32;42m ! \u001b[0m\u001b[1;37;47m   \u001b[0m\n",
      "\u001b[1;37;47m   \u001b[0m\u001b[0;30;40m   \u001b[0m\u001b[0;30;40m   \u001b[0m\u001b[1;37;47m   \u001b[0m\u001b[1;32;42m ! \u001b[0m\u001b[0;30;40m   \u001b[0m\u001b[1;37;47m   \u001b[0m\u001b[0;30;40m   \u001b[0m\u001b[0;30;40m   \u001b[0m\u001b[1;37;47m   \u001b[0m\n",
      "\u001b[1;37;47m   \u001b[0m\u001b[1;37;47m   \u001b[0m\u001b[0;30;40m   \u001b[0m\u001b[1;37;47m   \u001b[0m\u001b[1;37;47m   \u001b[0m\u001b[1;37;47m   \u001b[0m\u001b[1;37;47m   \u001b[0m\u001b[0;30;40m   \u001b[0m\u001b[1;37;47m   \u001b[0m\u001b[1;37;47m   \u001b[0m\n",
      "\u001b[1;37;47m   \u001b[0m\u001b[1;37;47m   \u001b[0m\u001b[1;37;47m   \u001b[0m\u001b[0;30;40m   \u001b[0m\u001b[0;30;40m   \u001b[0m\u001b[1;37;47m   \u001b[0m\u001b[1;37;47m   \u001b[0m\u001b[1;37;47m   \u001b[0m\u001b[1;37;47m   \u001b[0m\u001b[1;37;47m   \u001b[0m\n",
      "\u001b[1;37;47m   \u001b[0m\u001b[1;37;47m   \u001b[0m\u001b[1;37;47m   \u001b[0m\u001b[0;30;40m   \u001b[0m\u001b[1;31;41m ! \u001b[0m\u001b[1;37;47m   \u001b[0m\u001b[1;35;47m @ \u001b[0m\u001b[0;30;40m   \u001b[0m\u001b[1;37;47m   \u001b[0m\u001b[1;37;47m   \u001b[0m\n",
      "\u001b[1;37;47m   \u001b[0m\u001b[0;30;40m   \u001b[0m\u001b[1;37;47m   \u001b[0m\u001b[1;37;47m   \u001b[0m\u001b[1;37;47m   \u001b[0m\u001b[1;37;47m   \u001b[0m\u001b[1;37;47m   \u001b[0m\u001b[1;37;47m   \u001b[0m\u001b[1;37;47m   \u001b[0m\u001b[0;30;40m   \u001b[0m\n",
      "\u001b[1;37;47m   \u001b[0m\u001b[1;31;41m ! \u001b[0m\u001b[1;37;47m   \u001b[0m\u001b[1;37;47m   \u001b[0m\u001b[0;30;40m   \u001b[0m\u001b[1;37;47m   \u001b[0m\u001b[1;37;47m   \u001b[0m\u001b[1;37;47m   \u001b[0m\u001b[0;30;40m   \u001b[0m\u001b[1;37;47m   \u001b[0m\n",
      "\u001b[1;37;47m   \u001b[0m\u001b[1;32;42m ! \u001b[0m\u001b[1;37;47m   \u001b[0m\u001b[1;37;47m   \u001b[0m\u001b[1;37;47m   \u001b[0m\u001b[1;32;42m ! \u001b[0m\u001b[1;37;47m   \u001b[0m\u001b[0;30;40m   \u001b[0m\u001b[1;37;47m   \u001b[0m\u001b[1;37;47m   \u001b[0m\n",
      "Score: 10 Moves: 50 Direction:0\n"
     ]
    }
   ],
   "source": [
    "play(agent.Q,env1,walls=0.2)"
   ]
  },
  {
   "cell_type": "code",
   "execution_count": 12,
   "id": "c7aa31bf",
   "metadata": {
    "id": "c7aa31bf"
   },
   "outputs": [],
   "source": [
    "# Saving weights\n",
    "\n",
    "agent.Q.save_weights(\"networks/maze_harvest/Qc1.h5\")\n",
    "agent.Q_target.save_weights(\"networks/maze_harvest/Qtc1.h5\")"
   ]
  },
  {
   "cell_type": "code",
   "execution_count": 14,
   "id": "qc4Dfe3ayzqb",
   "metadata": {
    "id": "qc4Dfe3ayzqb"
   },
   "outputs": [],
   "source": [
    "env1.max_moves = 500"
   ]
  },
  {
   "cell_type": "code",
   "execution_count": 16,
   "id": "Mh_WTGZwysJo",
   "metadata": {
    "colab": {
     "base_uri": "https://localhost:8080/"
    },
    "id": "Mh_WTGZwysJo",
    "outputId": "86458591-44ce-4ebe-9997-662d8dc24726"
   },
   "outputs": [
    {
     "name": "stdout",
     "output_type": "stream",
     "text": [
      "\u001b[1;37;47m   \u001b[0m\u001b[1;37;47m   \u001b[0m\u001b[1;37;47m   \u001b[0m\u001b[1;37;47m   \u001b[0m\u001b[0;30;40m   \u001b[0m\u001b[1;37;47m   \u001b[0m\u001b[1;37;47m   \u001b[0m\u001b[1;37;47m   \u001b[0m\u001b[1;37;47m   \u001b[0m\u001b[0;30;40m   \u001b[0m\n",
      "\u001b[1;37;47m   \u001b[0m\u001b[1;37;47m   \u001b[0m\u001b[1;37;47m   \u001b[0m\u001b[1;37;47m   \u001b[0m\u001b[1;37;47m   \u001b[0m\u001b[0;30;40m   \u001b[0m\u001b[1;37;47m   \u001b[0m\u001b[1;37;47m   \u001b[0m\u001b[1;32;42m ! \u001b[0m\u001b[1;37;47m   \u001b[0m\n",
      "\u001b[1;32;42m ! \u001b[0m\u001b[1;32;42m ! \u001b[0m\u001b[0;30;40m   \u001b[0m\u001b[1;37;47m   \u001b[0m\u001b[1;37;47m   \u001b[0m\u001b[1;37;47m   \u001b[0m\u001b[1;37;47m   \u001b[0m\u001b[1;37;47m   \u001b[0m\u001b[1;37;47m   \u001b[0m\u001b[1;37;47m   \u001b[0m\n",
      "\u001b[1;37;47m   \u001b[0m\u001b[1;37;47m   \u001b[0m\u001b[0;30;40m   \u001b[0m\u001b[1;37;47m   \u001b[0m\u001b[0;30;40m   \u001b[0m\u001b[1;37;47m   \u001b[0m\u001b[0;30;40m   \u001b[0m\u001b[1;32;42m ! \u001b[0m\u001b[1;37;47m   \u001b[0m\u001b[1;37;47m   \u001b[0m\n",
      "\u001b[1;37;47m   \u001b[0m\u001b[0;30;40m   \u001b[0m\u001b[1;32;42m ! \u001b[0m\u001b[1;37;47m   \u001b[0m\u001b[1;37;47m   \u001b[0m\u001b[0;30;40m   \u001b[0m\u001b[0;30;40m   \u001b[0m\u001b[1;32;42m ! \u001b[0m\u001b[1;37;47m   \u001b[0m\u001b[1;37;47m   \u001b[0m\n",
      "\u001b[1;37;47m   \u001b[0m\u001b[1;37;47m   \u001b[0m\u001b[1;37;47m   \u001b[0m\u001b[1;37;47m   \u001b[0m\u001b[1;37;47m   \u001b[0m\u001b[0;30;40m   \u001b[0m\u001b[1;37;47m   \u001b[0m\u001b[1;37;47m   \u001b[0m\u001b[0;30;40m   \u001b[0m\u001b[1;32;42m ! \u001b[0m\n",
      "\u001b[1;37;47m   \u001b[0m\u001b[1;37;47m   \u001b[0m\u001b[0;30;40m   \u001b[0m\u001b[1;37;47m   \u001b[0m\u001b[1;37;47m   \u001b[0m\u001b[1;37;47m   \u001b[0m\u001b[0;30;40m   \u001b[0m\u001b[1;37;47m   \u001b[0m\u001b[1;37;47m   \u001b[0m\u001b[1;37;47m   \u001b[0m\n",
      "\u001b[1;37;47m   \u001b[0m\u001b[0;30;40m   \u001b[0m\u001b[1;33;47m * \u001b[0m\u001b[1;33;47m * \u001b[0m\u001b[1;37;47m   \u001b[0m\u001b[1;37;47m   \u001b[0m\u001b[1;37;47m   \u001b[0m\u001b[1;31;41m ! \u001b[0m\u001b[1;32;42m ! \u001b[0m\u001b[0;30;40m   \u001b[0m\n",
      "\u001b[0;30;40m   \u001b[0m\u001b[1;37;47m   \u001b[0m\u001b[1;33;47m * \u001b[0m\u001b[1;37;47m   \u001b[0m\u001b[1;37;47m   \u001b[0m\u001b[1;37;47m   \u001b[0m\u001b[1;37;47m   \u001b[0m\u001b[1;37;47m   \u001b[0m\u001b[1;37;47m   \u001b[0m\u001b[1;37;47m   \u001b[0m\n",
      "\u001b[1;33;47m * \u001b[0m\u001b[1;33;47m * \u001b[0m\u001b[1;33;47m * \u001b[0m\u001b[1;37;47m   \u001b[0m\u001b[0;30;40m   \u001b[0m\u001b[0;30;40m   \u001b[0m\u001b[1;32;42m ! \u001b[0m\u001b[1;37;47m   \u001b[0m\u001b[0;30;40m   \u001b[0m\u001b[1;35;47m @ \u001b[0m\n",
      "Score: 10 Moves: 36 Direction:3\n"
     ]
    }
   ],
   "source": [
    "play(agent.Q,env1,walls=0.2,nds=True)"
   ]
  },
  {
   "cell_type": "markdown",
   "id": "b31ec0df",
   "metadata": {
    "id": "b31ec0df"
   },
   "source": [
    "### 3) walls 20%, nds=True"
   ]
  },
  {
   "cell_type": "code",
   "execution_count": 17,
   "id": "29a7d109",
   "metadata": {
    "colab": {
     "base_uri": "https://localhost:8080/"
    },
    "id": "29a7d109",
    "outputId": "6c5de9ca-46dd-4cfe-b152-ea83f252a70d"
   },
   "outputs": [
    {
     "name": "stdout",
     "output_type": "stream",
     "text": [
      "Episode:100 Score:0 Moves:3 Loss:835.4608764648438\n",
      "Episode:200 Score:7 Moves:30 Loss:1056.6042338053385\n",
      "Episode:300 Score:7 Moves:24 Loss:1063.4635111490886\n",
      "Episode:400 Score:1 Moves:9 Loss:1163.044650607639\n",
      "Episode:500 Score:0 Moves:1 Loss:1246.7003173828125\n",
      "Episode:600 Score:0 Moves:6 Loss:854.3956298828125\n",
      "Episode:700 Score:11 Moves:45 Loss:983.4987813313802\n",
      "Episode:800 Score:2 Moves:18 Loss:990.4209628634983\n",
      "Episode:900 Score:7 Moves:30 Loss:878.3282623291016\n",
      "Episode:1000 Score:17 Moves:77 Loss:918.2928070464692\n",
      "Episode:1100 Score:2 Moves:9 Loss:801.5443725585938\n",
      "Episode:1200 Score:12 Moves:44 Loss:945.5208282470703\n",
      "Episode:1300 Score:11 Moves:40 Loss:1016.7399688720703\n",
      "Episode:1400 Score:0 Moves:2 Loss:1005.1677856445312\n",
      "Episode:1500 Score:5 Moves:28 Loss:1011.4890888759068\n",
      "Episode:1600 Score:1 Moves:8 Loss:1055.7688446044922\n",
      "Episode:1700 Score:0 Moves:3 Loss:949.4847208658854\n",
      "Episode:1800 Score:1 Moves:6 Loss:1011.351318359375\n",
      "Episode:1900 Score:4 Moves:19 Loss:812.1162478798315\n",
      "Episode:2000 Score:0 Moves:1 Loss:787.0010986328125\n"
     ]
    }
   ],
   "source": [
    "train(agent,env1,2000,42,C=50,ep=100,nds=True)"
   ]
  },
  {
   "cell_type": "code",
   "execution_count": 25,
   "id": "42e9bc69",
   "metadata": {
    "colab": {
     "base_uri": "https://localhost:8080/"
    },
    "id": "42e9bc69",
    "outputId": "5b825ec8-6263-43f0-e64a-542552fff51c"
   },
   "outputs": [
    {
     "name": "stdout",
     "output_type": "stream",
     "text": [
      "\u001b[1;37;47m   \u001b[0m\u001b[1;37;47m   \u001b[0m\u001b[1;37;47m   \u001b[0m\u001b[1;37;47m   \u001b[0m\u001b[1;37;47m   \u001b[0m\u001b[0;30;40m   \u001b[0m\u001b[1;35;47m @ \u001b[0m\u001b[1;37;47m   \u001b[0m\u001b[1;37;47m   \u001b[0m\u001b[1;37;47m   \u001b[0m\n",
      "\u001b[1;32;42m ! \u001b[0m\u001b[1;37;47m   \u001b[0m\u001b[1;37;47m   \u001b[0m\u001b[1;37;47m   \u001b[0m\u001b[1;37;47m   \u001b[0m\u001b[0;30;40m   \u001b[0m\u001b[0;30;40m   \u001b[0m\u001b[1;32;42m ! \u001b[0m\u001b[0;30;40m   \u001b[0m\u001b[1;37;47m   \u001b[0m\n",
      "\u001b[1;37;47m   \u001b[0m\u001b[1;37;47m   \u001b[0m\u001b[0;30;40m   \u001b[0m\u001b[1;37;47m   \u001b[0m\u001b[1;37;47m   \u001b[0m\u001b[1;37;47m   \u001b[0m\u001b[0;30;40m   \u001b[0m\u001b[1;37;47m   \u001b[0m\u001b[1;37;47m   \u001b[0m\u001b[1;37;47m   \u001b[0m\n",
      "\u001b[0;30;40m   \u001b[0m\u001b[1;37;47m   \u001b[0m\u001b[1;37;47m   \u001b[0m\u001b[1;37;47m   \u001b[0m\u001b[1;31;41m ! \u001b[0m\u001b[1;37;47m   \u001b[0m\u001b[1;32;42m ! \u001b[0m\u001b[1;37;47m   \u001b[0m\u001b[1;37;47m   \u001b[0m\u001b[1;37;47m   \u001b[0m\n",
      "\u001b[1;37;47m   \u001b[0m\u001b[1;37;47m   \u001b[0m\u001b[1;37;47m   \u001b[0m\u001b[1;37;47m   \u001b[0m\u001b[1;37;47m   \u001b[0m\u001b[1;37;47m   \u001b[0m\u001b[0;30;40m   \u001b[0m\u001b[1;37;47m   \u001b[0m\u001b[1;37;47m   \u001b[0m\u001b[1;37;47m   \u001b[0m\n",
      "\u001b[1;37;47m   \u001b[0m\u001b[1;31;41m ! \u001b[0m\u001b[1;37;47m   \u001b[0m\u001b[1;37;47m   \u001b[0m\u001b[0;30;40m   \u001b[0m\u001b[0;30;40m   \u001b[0m\u001b[1;37;47m   \u001b[0m\u001b[1;37;47m   \u001b[0m\u001b[1;37;47m   \u001b[0m\u001b[0;30;40m   \u001b[0m\n",
      "\u001b[1;37;47m   \u001b[0m\u001b[0;30;40m   \u001b[0m\u001b[1;37;47m   \u001b[0m\u001b[1;32;42m ! \u001b[0m\u001b[1;37;47m   \u001b[0m\u001b[1;37;47m   \u001b[0m\u001b[1;37;47m   \u001b[0m\u001b[0;30;40m   \u001b[0m\u001b[0;30;40m   \u001b[0m\u001b[1;37;47m   \u001b[0m\n",
      "\u001b[1;37;47m   \u001b[0m\u001b[1;37;47m   \u001b[0m\u001b[1;32;42m ! \u001b[0m\u001b[1;37;47m   \u001b[0m\u001b[1;32;42m ! \u001b[0m\u001b[0;30;40m   \u001b[0m\u001b[1;37;47m   \u001b[0m\u001b[1;37;47m   \u001b[0m\u001b[1;31;41m ! \u001b[0m\u001b[1;37;47m   \u001b[0m\n",
      "\u001b[0;30;40m   \u001b[0m\u001b[1;37;47m   \u001b[0m\u001b[0;30;40m   \u001b[0m\u001b[1;37;47m   \u001b[0m\u001b[1;37;47m   \u001b[0m\u001b[1;32;42m ! \u001b[0m\u001b[1;37;47m   \u001b[0m\u001b[1;37;47m   \u001b[0m\u001b[1;37;47m   \u001b[0m\u001b[0;30;40m   \u001b[0m\n",
      "\u001b[1;37;47m   \u001b[0m\u001b[1;37;47m   \u001b[0m\u001b[1;37;47m   \u001b[0m\u001b[0;30;40m   \u001b[0m\u001b[1;37;47m   \u001b[0m\u001b[1;37;47m   \u001b[0m\u001b[1;37;47m   \u001b[0m\u001b[1;37;47m   \u001b[0m\u001b[1;37;47m   \u001b[0m\u001b[0;30;40m   \u001b[0m\n",
      "Score: 1 Moves: 14 Direction:0\n"
     ]
    }
   ],
   "source": [
    "play(agent.Q,env1,walls=0.2,nds=True)"
   ]
  },
  {
   "cell_type": "markdown",
   "id": "7db1a7a8",
   "metadata": {
    "id": "7db1a7a8"
   },
   "source": [
    "### 4) walls 30% nds= True"
   ]
  },
  {
   "cell_type": "code",
   "execution_count": 26,
   "id": "9b7d2011",
   "metadata": {
    "colab": {
     "base_uri": "https://localhost:8080/"
    },
    "id": "9b7d2011",
    "outputId": "a2da7d4a-39e6-4579-a29a-a1c9e5d4e257"
   },
   "outputs": [
    {
     "name": "stdout",
     "output_type": "stream",
     "text": [
      "Episode:100 Score:0 Moves:2 Loss:1142.634521484375\n",
      "Episode:200 Score:0 Moves:8 Loss:933.158203125\n",
      "Episode:300 Score:3 Moves:15 Loss:993.9643778483073\n",
      "Episode:400 Score:1 Moves:6 Loss:989.9650014241537\n",
      "Episode:500 Score:6 Moves:28 Loss:962.7591912405832\n",
      "Episode:600 Score:0 Moves:5 Loss:1000.1607299804688\n",
      "Episode:700 Score:1 Moves:6 Loss:848.4299062093099\n",
      "Episode:800 Score:10 Moves:52 Loss:782.9282326331505\n",
      "Episode:900 Score:0 Moves:2 Loss:835.8400421142578\n",
      "Episode:1000 Score:4 Moves:17 Loss:949.1423483455883\n",
      "Episode:1100 Score:0 Moves:2 Loss:903.3777465820312\n",
      "Episode:1200 Score:1 Moves:8 Loss:823.1120910644531\n",
      "Episode:1300 Score:3 Moves:13 Loss:724.2413846529447\n",
      "Episode:1400 Score:0 Moves:2 Loss:761.7478942871094\n",
      "Episode:1500 Score:7 Moves:32 Loss:821.6943225860596\n",
      "Episode:1600 Score:0 Moves:6 Loss:654.2755533854166\n",
      "Episode:1700 Score:0 Moves:2 Loss:917.6478576660156\n",
      "Episode:1800 Score:0 Moves:4 Loss:755.2197113037109\n",
      "Episode:1900 Score:0 Moves:3 Loss:1122.2071126302083\n",
      "Episode:2000 Score:0 Moves:9 Loss:824.3836093478733\n",
      "Episode:2100 Score:6 Moves:22 Loss:908.2152987393466\n",
      "Episode:2200 Score:5 Moves:17 Loss:829.3543395996094\n",
      "Episode:2300 Score:1 Moves:8 Loss:1105.2622604370117\n",
      "Episode:2400 Score:6 Moves:23 Loss:916.3337495223335\n",
      "Episode:2500 Score:4 Moves:11 Loss:868.9569813121449\n",
      "Episode:2600 Score:0 Moves:5 Loss:826.4064086914062\n",
      "Episode:2700 Score:1 Moves:6 Loss:922.9601440429688\n",
      "Episode:2800 Score:0 Moves:6 Loss:901.3582356770834\n",
      "Episode:2900 Score:0 Moves:1 Loss:636.2156982421875\n",
      "Episode:3000 Score:2 Moves:11 Loss:722.3934881036931\n"
     ]
    }
   ],
   "source": [
    "train(agent,env1,3000,42,C=50,ep=100,walls=.3,nds=True)"
   ]
  },
  {
   "cell_type": "code",
   "execution_count": 28,
   "id": "d477cb6d",
   "metadata": {
    "colab": {
     "base_uri": "https://localhost:8080/"
    },
    "id": "d477cb6d",
    "outputId": "e4ef465c-0913-4bf4-838e-f5a5ca6df54e"
   },
   "outputs": [
    {
     "name": "stdout",
     "output_type": "stream",
     "text": [
      "\u001b[1;37;47m   \u001b[0m\u001b[1;37;47m   \u001b[0m\u001b[1;37;47m   \u001b[0m\u001b[0;30;40m   \u001b[0m\u001b[0;30;40m   \u001b[0m\u001b[1;37;47m   \u001b[0m\u001b[1;37;47m   \u001b[0m\u001b[0;30;40m   \u001b[0m\u001b[1;37;47m   \u001b[0m\u001b[0;30;40m   \u001b[0m\n",
      "\u001b[1;37;47m   \u001b[0m\u001b[1;32;42m ! \u001b[0m\u001b[1;37;47m   \u001b[0m\u001b[0;30;40m   \u001b[0m\u001b[1;37;47m   \u001b[0m\u001b[1;37;47m   \u001b[0m\u001b[1;37;47m   \u001b[0m\u001b[1;37;47m   \u001b[0m\u001b[0;30;40m   \u001b[0m\u001b[1;32;42m ! \u001b[0m\n",
      "\u001b[0;30;40m   \u001b[0m\u001b[0;30;40m   \u001b[0m\u001b[1;37;47m   \u001b[0m\u001b[1;37;47m   \u001b[0m\u001b[1;37;47m   \u001b[0m\u001b[1;31;41m ! \u001b[0m\u001b[0;30;40m   \u001b[0m\u001b[0;30;40m   \u001b[0m\u001b[0;30;40m   \u001b[0m\u001b[1;37;47m   \u001b[0m\n",
      "\u001b[1;37;47m   \u001b[0m\u001b[1;37;47m   \u001b[0m\u001b[0;30;40m   \u001b[0m\u001b[1;37;47m   \u001b[0m\u001b[1;32;42m ! \u001b[0m\u001b[1;37;47m   \u001b[0m\u001b[0;30;40m   \u001b[0m\u001b[1;37;47m   \u001b[0m\u001b[1;37;47m   \u001b[0m\u001b[1;37;47m   \u001b[0m\n",
      "\u001b[1;37;47m   \u001b[0m\u001b[0;30;40m   \u001b[0m\u001b[0;30;40m   \u001b[0m\u001b[1;37;47m   \u001b[0m\u001b[1;37;47m   \u001b[0m\u001b[1;37;47m   \u001b[0m\u001b[1;37;47m   \u001b[0m\u001b[1;37;47m   \u001b[0m\u001b[1;37;47m   \u001b[0m\u001b[1;37;47m   \u001b[0m\n",
      "\u001b[1;37;47m   \u001b[0m\u001b[0;30;40m   \u001b[0m\u001b[1;32;42m ! \u001b[0m\u001b[1;37;47m   \u001b[0m\u001b[1;37;47m   \u001b[0m\u001b[1;31;41m ! \u001b[0m\u001b[1;37;47m   \u001b[0m\u001b[1;32;42m ! \u001b[0m\u001b[0;30;40m   \u001b[0m\u001b[1;37;47m   \u001b[0m\n",
      "\u001b[0;30;40m   \u001b[0m\u001b[1;37;47m   \u001b[0m\u001b[1;37;47m   \u001b[0m\u001b[1;32;42m ! \u001b[0m\u001b[1;37;47m   \u001b[0m\u001b[0;30;40m   \u001b[0m\u001b[1;37;47m   \u001b[0m\u001b[1;37;47m   \u001b[0m\u001b[1;37;47m   \u001b[0m\u001b[0;30;40m   \u001b[0m\n",
      "\u001b[0;30;40m   \u001b[0m\u001b[1;37;47m   \u001b[0m\u001b[1;37;47m   \u001b[0m\u001b[0;30;40m   \u001b[0m\u001b[1;37;47m   \u001b[0m\u001b[1;37;47m   \u001b[0m\u001b[1;37;47m   \u001b[0m\u001b[0;30;40m   \u001b[0m\u001b[0;30;40m   \u001b[0m\u001b[1;37;47m   \u001b[0m\n",
      "\u001b[1;37;47m   \u001b[0m\u001b[1;37;47m   \u001b[0m\u001b[1;37;47m   \u001b[0m\u001b[0;30;40m   \u001b[0m\u001b[1;37;47m   \u001b[0m\u001b[1;37;47m   \u001b[0m\u001b[1;35;47m @ \u001b[0m\u001b[1;33;47m * \u001b[0m\u001b[1;33;47m * \u001b[0m\u001b[1;37;47m   \u001b[0m\n",
      "\u001b[1;32;42m ! \u001b[0m\u001b[0;30;40m   \u001b[0m\u001b[0;30;40m   \u001b[0m\u001b[0;30;40m   \u001b[0m\u001b[1;32;42m ! \u001b[0m\u001b[0;30;40m   \u001b[0m\u001b[0;30;40m   \u001b[0m\u001b[1;37;47m   \u001b[0m\u001b[1;37;47m   \u001b[0m\u001b[1;37;47m   \u001b[0m\n",
      "Score: 8 Moves: 25 Direction:3\n"
     ]
    }
   ],
   "source": [
    "play(agent.Q,env1,walls=0.3,nds=True)"
   ]
  },
  {
   "cell_type": "code",
   "execution_count": 31,
   "id": "ImE9uzjl7XaN",
   "metadata": {
    "colab": {
     "base_uri": "https://localhost:8080/"
    },
    "id": "ImE9uzjl7XaN",
    "outputId": "6ff88719-c017-4932-bff2-bd676c58734c"
   },
   "outputs": [
    {
     "name": "stdout",
     "output_type": "stream",
     "text": [
      "\u001b[0;30;40m   \u001b[0m\u001b[1;37;47m   \u001b[0m\u001b[1;37;47m   \u001b[0m\u001b[1;35;47m @ \u001b[0m\u001b[1;37;47m   \u001b[0m\u001b[1;37;47m   \u001b[0m\u001b[1;37;47m   \u001b[0m\u001b[0;30;40m   \u001b[0m\u001b[1;31;41m ! \u001b[0m\u001b[1;37;47m   \u001b[0m\n",
      "\u001b[0;30;40m   \u001b[0m\u001b[1;37;47m   \u001b[0m\u001b[1;37;47m   \u001b[0m\u001b[0;30;40m   \u001b[0m\u001b[1;37;47m   \u001b[0m\u001b[0;30;40m   \u001b[0m\u001b[1;32;42m ! \u001b[0m\u001b[1;37;47m   \u001b[0m\u001b[0;30;40m   \u001b[0m\u001b[1;37;47m   \u001b[0m\n",
      "\u001b[0;30;40m   \u001b[0m\u001b[1;37;47m   \u001b[0m\u001b[0;30;40m   \u001b[0m\u001b[1;37;47m   \u001b[0m\u001b[0;30;40m   \u001b[0m\u001b[1;32;42m ! \u001b[0m\u001b[1;37;47m   \u001b[0m\u001b[1;37;47m   \u001b[0m\u001b[0;30;40m   \u001b[0m\u001b[1;37;47m   \u001b[0m\n",
      "\u001b[0;30;40m   \u001b[0m\u001b[1;37;47m   \u001b[0m\u001b[1;32;42m ! \u001b[0m\u001b[1;37;47m   \u001b[0m\u001b[1;37;47m   \u001b[0m\u001b[1;37;47m   \u001b[0m\u001b[1;37;47m   \u001b[0m\u001b[1;37;47m   \u001b[0m\u001b[1;37;47m   \u001b[0m\u001b[1;37;47m   \u001b[0m\n",
      "\u001b[1;37;47m   \u001b[0m\u001b[1;37;47m   \u001b[0m\u001b[1;32;42m ! \u001b[0m\u001b[1;37;47m   \u001b[0m\u001b[1;37;47m   \u001b[0m\u001b[1;37;47m   \u001b[0m\u001b[1;37;47m   \u001b[0m\u001b[0;30;40m   \u001b[0m\u001b[1;37;47m   \u001b[0m\u001b[1;37;47m   \u001b[0m\n",
      "\u001b[1;37;47m   \u001b[0m\u001b[1;37;47m   \u001b[0m\u001b[1;37;47m   \u001b[0m\u001b[1;37;47m   \u001b[0m\u001b[1;37;47m   \u001b[0m\u001b[1;37;47m   \u001b[0m\u001b[1;37;47m   \u001b[0m\u001b[1;37;47m   \u001b[0m\u001b[0;30;40m   \u001b[0m\u001b[1;37;47m   \u001b[0m\n",
      "\u001b[1;37;47m   \u001b[0m\u001b[1;37;47m   \u001b[0m\u001b[1;37;47m   \u001b[0m\u001b[1;37;47m   \u001b[0m\u001b[1;37;47m   \u001b[0m\u001b[0;30;40m   \u001b[0m\u001b[0;30;40m   \u001b[0m\u001b[1;37;47m   \u001b[0m\u001b[1;37;47m   \u001b[0m\u001b[1;37;47m   \u001b[0m\n",
      "\u001b[1;37;47m   \u001b[0m\u001b[1;37;47m   \u001b[0m\u001b[1;37;47m   \u001b[0m\u001b[1;37;47m   \u001b[0m\u001b[1;37;47m   \u001b[0m\u001b[1;37;47m   \u001b[0m\u001b[1;37;47m   \u001b[0m\u001b[1;37;47m   \u001b[0m\u001b[0;30;40m   \u001b[0m\u001b[1;37;47m   \u001b[0m\n",
      "\u001b[1;37;47m   \u001b[0m\u001b[1;37;47m   \u001b[0m\u001b[0;30;40m   \u001b[0m\u001b[0;30;40m   \u001b[0m\u001b[1;37;47m   \u001b[0m\u001b[0;30;40m   \u001b[0m\u001b[1;37;47m   \u001b[0m\u001b[0;30;40m   \u001b[0m\u001b[1;37;47m   \u001b[0m\u001b[1;37;47m   \u001b[0m\n",
      "\u001b[1;37;47m   \u001b[0m\u001b[1;37;47m   \u001b[0m\u001b[1;37;47m   \u001b[0m\u001b[1;37;47m   \u001b[0m\u001b[1;37;47m   \u001b[0m\u001b[1;37;47m   \u001b[0m\u001b[1;37;47m   \u001b[0m\u001b[1;37;47m   \u001b[0m\u001b[1;37;47m   \u001b[0m\u001b[1;37;47m   \u001b[0m\n",
      "Score: 1 Moves: 6 Direction:3\n"
     ]
    }
   ],
   "source": [
    "play(agent.Q,env1,walls=0.2,nds=True)"
   ]
  },
  {
   "cell_type": "code",
   "execution_count": 44,
   "id": "70HHFknI7iRn",
   "metadata": {
    "colab": {
     "base_uri": "https://localhost:8080/"
    },
    "id": "70HHFknI7iRn",
    "outputId": "a0979bdd-b85a-4fc2-e016-07de7d63bc90"
   },
   "outputs": [
    {
     "name": "stdout",
     "output_type": "stream",
     "text": [
      "\u001b[1;37;47m   \u001b[0m\u001b[1;37;47m   \u001b[0m\u001b[1;37;47m   \u001b[0m\u001b[1;37;47m   \u001b[0m\u001b[1;37;47m   \u001b[0m\u001b[1;37;47m   \u001b[0m\u001b[1;37;47m   \u001b[0m\u001b[1;37;47m   \u001b[0m\u001b[1;37;47m   \u001b[0m\u001b[1;37;47m   \u001b[0m\u001b[0;30;40m   \u001b[0m\u001b[1;37;47m   \u001b[0m\u001b[1;37;47m   \u001b[0m\u001b[1;37;47m   \u001b[0m\u001b[1;37;47m   \u001b[0m\u001b[1;37;47m   \u001b[0m\u001b[1;32;42m ! \u001b[0m\u001b[1;37;47m   \u001b[0m\u001b[1;31;41m ! \u001b[0m\u001b[1;37;47m   \u001b[0m\n",
      "\u001b[1;37;47m   \u001b[0m\u001b[0;30;40m   \u001b[0m\u001b[1;37;47m   \u001b[0m\u001b[1;37;47m   \u001b[0m\u001b[1;31;41m ! \u001b[0m\u001b[1;37;47m   \u001b[0m\u001b[0;30;40m   \u001b[0m\u001b[0;30;40m   \u001b[0m\u001b[0;30;40m   \u001b[0m\u001b[1;37;47m   \u001b[0m\u001b[1;37;47m   \u001b[0m\u001b[1;37;47m   \u001b[0m\u001b[1;37;47m   \u001b[0m\u001b[0;30;40m   \u001b[0m\u001b[1;37;47m   \u001b[0m\u001b[0;30;40m   \u001b[0m\u001b[1;37;47m   \u001b[0m\u001b[1;37;47m   \u001b[0m\u001b[1;37;47m   \u001b[0m\u001b[1;37;47m   \u001b[0m\n",
      "\u001b[1;37;47m   \u001b[0m\u001b[1;37;47m   \u001b[0m\u001b[1;37;47m   \u001b[0m\u001b[1;37;47m   \u001b[0m\u001b[1;32;42m ! \u001b[0m\u001b[0;30;40m   \u001b[0m\u001b[1;37;47m   \u001b[0m\u001b[1;37;47m   \u001b[0m\u001b[0;30;40m   \u001b[0m\u001b[0;30;40m   \u001b[0m\u001b[1;37;47m   \u001b[0m\u001b[1;37;47m   \u001b[0m\u001b[1;37;47m   \u001b[0m\u001b[1;37;47m   \u001b[0m\u001b[0;30;40m   \u001b[0m\u001b[0;30;40m   \u001b[0m\u001b[1;37;47m   \u001b[0m\u001b[1;37;47m   \u001b[0m\u001b[1;37;47m   \u001b[0m\u001b[1;37;47m   \u001b[0m\n",
      "\u001b[1;37;47m   \u001b[0m\u001b[1;37;47m   \u001b[0m\u001b[1;32;42m ! \u001b[0m\u001b[1;37;47m   \u001b[0m\u001b[1;37;47m   \u001b[0m\u001b[0;30;40m   \u001b[0m\u001b[1;31;41m ! \u001b[0m\u001b[1;37;47m   \u001b[0m\u001b[1;37;47m   \u001b[0m\u001b[1;37;47m   \u001b[0m\u001b[1;37;47m   \u001b[0m\u001b[1;37;47m   \u001b[0m\u001b[1;37;47m   \u001b[0m\u001b[0;30;40m   \u001b[0m\u001b[0;30;40m   \u001b[0m\u001b[0;30;40m   \u001b[0m\u001b[1;37;47m   \u001b[0m\u001b[1;37;47m   \u001b[0m\u001b[1;31;41m ! \u001b[0m\u001b[1;37;47m   \u001b[0m\n",
      "\u001b[1;37;47m   \u001b[0m\u001b[1;37;47m   \u001b[0m\u001b[1;37;47m   \u001b[0m\u001b[1;37;47m   \u001b[0m\u001b[0;30;40m   \u001b[0m\u001b[1;37;47m   \u001b[0m\u001b[1;37;47m   \u001b[0m\u001b[1;37;47m   \u001b[0m\u001b[1;37;47m   \u001b[0m\u001b[1;37;47m   \u001b[0m\u001b[1;37;47m   \u001b[0m\u001b[1;37;47m   \u001b[0m\u001b[1;37;47m   \u001b[0m\u001b[1;37;47m   \u001b[0m\u001b[1;37;47m   \u001b[0m\u001b[0;30;40m   \u001b[0m\u001b[1;37;47m   \u001b[0m\u001b[1;37;47m   \u001b[0m\u001b[1;37;47m   \u001b[0m\u001b[1;37;47m   \u001b[0m\n",
      "\u001b[1;37;47m   \u001b[0m\u001b[1;37;47m   \u001b[0m\u001b[1;37;47m   \u001b[0m\u001b[1;37;47m   \u001b[0m\u001b[1;37;47m   \u001b[0m\u001b[0;30;40m   \u001b[0m\u001b[1;37;47m   \u001b[0m\u001b[1;37;47m   \u001b[0m\u001b[1;37;47m   \u001b[0m\u001b[0;30;40m   \u001b[0m\u001b[1;37;47m   \u001b[0m\u001b[1;37;47m   \u001b[0m\u001b[1;37;47m   \u001b[0m\u001b[1;37;47m   \u001b[0m\u001b[1;37;47m   \u001b[0m\u001b[1;37;47m   \u001b[0m\u001b[1;37;47m   \u001b[0m\u001b[1;37;47m   \u001b[0m\u001b[1;37;47m   \u001b[0m\u001b[1;32;42m ! \u001b[0m\n",
      "\u001b[0;30;40m   \u001b[0m\u001b[1;37;47m   \u001b[0m\u001b[1;37;47m   \u001b[0m\u001b[0;30;40m   \u001b[0m\u001b[1;37;47m   \u001b[0m\u001b[1;32;42m ! \u001b[0m\u001b[0;30;40m   \u001b[0m\u001b[1;37;47m   \u001b[0m\u001b[1;37;47m   \u001b[0m\u001b[1;37;47m   \u001b[0m\u001b[0;30;40m   \u001b[0m\u001b[1;37;47m   \u001b[0m\u001b[1;37;47m   \u001b[0m\u001b[1;37;47m   \u001b[0m\u001b[1;37;47m   \u001b[0m\u001b[1;37;47m   \u001b[0m\u001b[1;37;47m   \u001b[0m\u001b[0;30;40m   \u001b[0m\u001b[1;37;47m   \u001b[0m\u001b[1;37;47m   \u001b[0m\n",
      "\u001b[1;37;47m   \u001b[0m\u001b[1;37;47m   \u001b[0m\u001b[1;37;47m   \u001b[0m\u001b[1;37;47m   \u001b[0m\u001b[1;37;47m   \u001b[0m\u001b[1;37;47m   \u001b[0m\u001b[1;37;47m   \u001b[0m\u001b[1;37;47m   \u001b[0m\u001b[1;37;47m   \u001b[0m\u001b[1;37;47m   \u001b[0m\u001b[1;37;47m   \u001b[0m\u001b[1;37;47m   \u001b[0m\u001b[1;37;47m   \u001b[0m\u001b[1;37;47m   \u001b[0m\u001b[0;30;40m   \u001b[0m\u001b[1;37;47m   \u001b[0m\u001b[1;37;47m   \u001b[0m\u001b[1;37;47m   \u001b[0m\u001b[1;37;47m   \u001b[0m\u001b[1;37;47m   \u001b[0m\n",
      "\u001b[0;30;40m   \u001b[0m\u001b[0;30;40m   \u001b[0m\u001b[0;30;40m   \u001b[0m\u001b[1;37;47m   \u001b[0m\u001b[1;37;47m   \u001b[0m\u001b[1;37;47m   \u001b[0m\u001b[1;37;47m   \u001b[0m\u001b[1;37;47m   \u001b[0m\u001b[1;37;47m   \u001b[0m\u001b[1;37;47m   \u001b[0m\u001b[1;37;47m   \u001b[0m\u001b[1;37;47m   \u001b[0m\u001b[1;37;47m   \u001b[0m\u001b[1;37;47m   \u001b[0m\u001b[1;37;47m   \u001b[0m\u001b[0;30;40m   \u001b[0m\u001b[1;37;47m   \u001b[0m\u001b[1;37;47m   \u001b[0m\u001b[1;37;47m   \u001b[0m\u001b[1;37;47m   \u001b[0m\n",
      "\u001b[0;30;40m   \u001b[0m\u001b[1;33;47m * \u001b[0m\u001b[1;37;47m   \u001b[0m\u001b[1;37;47m   \u001b[0m\u001b[1;37;47m   \u001b[0m\u001b[1;37;47m   \u001b[0m\u001b[1;37;47m   \u001b[0m\u001b[1;37;47m   \u001b[0m\u001b[0;30;40m   \u001b[0m\u001b[1;37;47m   \u001b[0m\u001b[1;37;47m   \u001b[0m\u001b[1;37;47m   \u001b[0m\u001b[0;30;40m   \u001b[0m\u001b[1;37;47m   \u001b[0m\u001b[1;37;47m   \u001b[0m\u001b[1;37;47m   \u001b[0m\u001b[1;37;47m   \u001b[0m\u001b[0;30;40m   \u001b[0m\u001b[1;37;47m   \u001b[0m\u001b[1;37;47m   \u001b[0m\n",
      "\u001b[1;37;47m   \u001b[0m\u001b[1;35;47m @ \u001b[0m\u001b[1;37;47m   \u001b[0m\u001b[1;37;47m   \u001b[0m\u001b[1;37;47m   \u001b[0m\u001b[1;37;47m   \u001b[0m\u001b[1;37;47m   \u001b[0m\u001b[1;37;47m   \u001b[0m\u001b[1;37;47m   \u001b[0m\u001b[1;32;42m ! \u001b[0m\u001b[1;37;47m   \u001b[0m\u001b[1;37;47m   \u001b[0m\u001b[0;30;40m   \u001b[0m\u001b[1;37;47m   \u001b[0m\u001b[1;31;41m ! \u001b[0m\u001b[0;30;40m   \u001b[0m\u001b[1;37;47m   \u001b[0m\u001b[1;37;47m   \u001b[0m\u001b[1;37;47m   \u001b[0m\u001b[1;37;47m   \u001b[0m\n",
      "\u001b[0;30;40m   \u001b[0m\u001b[1;37;47m   \u001b[0m\u001b[1;37;47m   \u001b[0m\u001b[1;37;47m   \u001b[0m\u001b[0;30;40m   \u001b[0m\u001b[1;37;47m   \u001b[0m\u001b[1;37;47m   \u001b[0m\u001b[1;37;47m   \u001b[0m\u001b[1;37;47m   \u001b[0m\u001b[0;30;40m   \u001b[0m\u001b[1;37;47m   \u001b[0m\u001b[1;37;47m   \u001b[0m\u001b[1;37;47m   \u001b[0m\u001b[0;30;40m   \u001b[0m\u001b[1;37;47m   \u001b[0m\u001b[0;30;40m   \u001b[0m\u001b[1;37;47m   \u001b[0m\u001b[1;32;42m ! \u001b[0m\u001b[1;32;42m ! \u001b[0m\u001b[1;37;47m   \u001b[0m\n",
      "\u001b[1;37;47m   \u001b[0m\u001b[1;37;47m   \u001b[0m\u001b[0;30;40m   \u001b[0m\u001b[0;30;40m   \u001b[0m\u001b[1;37;47m   \u001b[0m\u001b[1;37;47m   \u001b[0m\u001b[1;37;47m   \u001b[0m\u001b[1;37;47m   \u001b[0m\u001b[1;37;47m   \u001b[0m\u001b[1;37;47m   \u001b[0m\u001b[1;37;47m   \u001b[0m\u001b[1;37;47m   \u001b[0m\u001b[1;37;47m   \u001b[0m\u001b[1;37;47m   \u001b[0m\u001b[1;37;47m   \u001b[0m\u001b[1;37;47m   \u001b[0m\u001b[0;30;40m   \u001b[0m\u001b[0;30;40m   \u001b[0m\u001b[1;37;47m   \u001b[0m\u001b[1;37;47m   \u001b[0m\n",
      "\u001b[1;37;47m   \u001b[0m\u001b[1;37;47m   \u001b[0m\u001b[1;32;42m ! \u001b[0m\u001b[1;37;47m   \u001b[0m\u001b[1;37;47m   \u001b[0m\u001b[1;37;47m   \u001b[0m\u001b[0;30;40m   \u001b[0m\u001b[1;37;47m   \u001b[0m\u001b[1;37;47m   \u001b[0m\u001b[1;37;47m   \u001b[0m\u001b[1;37;47m   \u001b[0m\u001b[1;37;47m   \u001b[0m\u001b[1;37;47m   \u001b[0m\u001b[1;37;47m   \u001b[0m\u001b[1;37;47m   \u001b[0m\u001b[0;30;40m   \u001b[0m\u001b[1;37;47m   \u001b[0m\u001b[0;30;40m   \u001b[0m\u001b[0;30;40m   \u001b[0m\u001b[1;37;47m   \u001b[0m\n",
      "\u001b[1;37;47m   \u001b[0m\u001b[0;30;40m   \u001b[0m\u001b[1;37;47m   \u001b[0m\u001b[0;30;40m   \u001b[0m\u001b[1;37;47m   \u001b[0m\u001b[1;37;47m   \u001b[0m\u001b[1;32;42m ! \u001b[0m\u001b[1;37;47m   \u001b[0m\u001b[1;37;47m   \u001b[0m\u001b[1;37;47m   \u001b[0m\u001b[1;37;47m   \u001b[0m\u001b[0;30;40m   \u001b[0m\u001b[1;37;47m   \u001b[0m\u001b[1;37;47m   \u001b[0m\u001b[1;37;47m   \u001b[0m\u001b[0;30;40m   \u001b[0m\u001b[0;30;40m   \u001b[0m\u001b[1;37;47m   \u001b[0m\u001b[1;37;47m   \u001b[0m\u001b[1;37;47m   \u001b[0m\n",
      "\u001b[1;37;47m   \u001b[0m\u001b[1;37;47m   \u001b[0m\u001b[1;37;47m   \u001b[0m\u001b[0;30;40m   \u001b[0m\u001b[1;37;47m   \u001b[0m\u001b[0;30;40m   \u001b[0m\u001b[1;37;47m   \u001b[0m\u001b[1;32;42m ! \u001b[0m\u001b[1;37;47m   \u001b[0m\u001b[1;37;47m   \u001b[0m\u001b[1;37;47m   \u001b[0m\u001b[1;37;47m   \u001b[0m\u001b[1;37;47m   \u001b[0m\u001b[0;30;40m   \u001b[0m\u001b[1;37;47m   \u001b[0m\u001b[1;37;47m   \u001b[0m\u001b[0;30;40m   \u001b[0m\u001b[1;37;47m   \u001b[0m\u001b[0;30;40m   \u001b[0m\u001b[1;37;47m   \u001b[0m\n",
      "\u001b[1;37;47m   \u001b[0m\u001b[1;37;47m   \u001b[0m\u001b[1;37;47m   \u001b[0m\u001b[1;37;47m   \u001b[0m\u001b[1;37;47m   \u001b[0m\u001b[1;37;47m   \u001b[0m\u001b[0;30;40m   \u001b[0m\u001b[0;30;40m   \u001b[0m\u001b[1;37;47m   \u001b[0m\u001b[1;37;47m   \u001b[0m\u001b[0;30;40m   \u001b[0m\u001b[1;37;47m   \u001b[0m\u001b[0;30;40m   \u001b[0m\u001b[1;37;47m   \u001b[0m\u001b[1;37;47m   \u001b[0m\u001b[1;37;47m   \u001b[0m\u001b[0;30;40m   \u001b[0m\u001b[1;37;47m   \u001b[0m\u001b[1;32;42m ! \u001b[0m\u001b[1;37;47m   \u001b[0m\n",
      "\u001b[1;37;47m   \u001b[0m\u001b[1;37;47m   \u001b[0m\u001b[1;37;47m   \u001b[0m\u001b[1;37;47m   \u001b[0m\u001b[1;37;47m   \u001b[0m\u001b[0;30;40m   \u001b[0m\u001b[0;30;40m   \u001b[0m\u001b[0;30;40m   \u001b[0m\u001b[0;30;40m   \u001b[0m\u001b[1;37;47m   \u001b[0m\u001b[1;37;47m   \u001b[0m\u001b[1;37;47m   \u001b[0m\u001b[0;30;40m   \u001b[0m\u001b[1;37;47m   \u001b[0m\u001b[0;30;40m   \u001b[0m\u001b[1;37;47m   \u001b[0m\u001b[1;37;47m   \u001b[0m\u001b[1;37;47m   \u001b[0m\u001b[1;37;47m   \u001b[0m\u001b[0;30;40m   \u001b[0m\n",
      "\u001b[1;37;47m   \u001b[0m\u001b[0;30;40m   \u001b[0m\u001b[1;37;47m   \u001b[0m\u001b[1;37;47m   \u001b[0m\u001b[1;37;47m   \u001b[0m\u001b[0;30;40m   \u001b[0m\u001b[1;37;47m   \u001b[0m\u001b[1;37;47m   \u001b[0m\u001b[1;37;47m   \u001b[0m\u001b[1;37;47m   \u001b[0m\u001b[0;30;40m   \u001b[0m\u001b[1;37;47m   \u001b[0m\u001b[1;37;47m   \u001b[0m\u001b[1;37;47m   \u001b[0m\u001b[1;37;47m   \u001b[0m\u001b[1;37;47m   \u001b[0m\u001b[1;37;47m   \u001b[0m\u001b[1;37;47m   \u001b[0m\u001b[0;30;40m   \u001b[0m\u001b[1;37;47m   \u001b[0m\n",
      "\u001b[1;37;47m   \u001b[0m\u001b[1;37;47m   \u001b[0m\u001b[1;37;47m   \u001b[0m\u001b[1;37;47m   \u001b[0m\u001b[0;30;40m   \u001b[0m\u001b[1;32;42m ! \u001b[0m\u001b[0;30;40m   \u001b[0m\u001b[0;30;40m   \u001b[0m\u001b[0;30;40m   \u001b[0m\u001b[1;37;47m   \u001b[0m\u001b[1;37;47m   \u001b[0m\u001b[1;32;42m ! \u001b[0m\u001b[1;37;47m   \u001b[0m\u001b[1;37;47m   \u001b[0m\u001b[1;32;42m ! \u001b[0m\u001b[1;37;47m   \u001b[0m\u001b[0;30;40m   \u001b[0m\u001b[1;37;47m   \u001b[0m\u001b[1;37;47m   \u001b[0m\u001b[1;37;47m   \u001b[0m\n",
      "Score: 2 Moves: 27 Direction:1\n"
     ]
    }
   ],
   "source": [
    "play(agent.Q,env2,walls=0.2,nds=True)"
   ]
  },
  {
   "cell_type": "markdown",
   "id": "725Jrn5g77L7",
   "metadata": {
    "id": "725Jrn5g77L7"
   },
   "source": [
    "### Loading weights"
   ]
  },
  {
   "cell_type": "code",
   "execution_count": 45,
   "id": "VK2TZz_g768N",
   "metadata": {
    "id": "VK2TZz_g768N"
   },
   "outputs": [],
   "source": [
    "agent.Q.load_weights(\"networks/maze_harvest/Qc1.h5\")\n",
    "agent.Q_target.load_weights(\"networks/maze_harvest/Qtc1.h5\")"
   ]
  },
  {
   "cell_type": "code",
   "execution_count": 67,
   "id": "ouOb4uUb7xaj",
   "metadata": {
    "colab": {
     "base_uri": "https://localhost:8080/"
    },
    "id": "ouOb4uUb7xaj",
    "outputId": "864f6055-ef42-4524-ad80-715f53730560"
   },
   "outputs": [
    {
     "name": "stdout",
     "output_type": "stream",
     "text": [
      "\u001b[1;37;47m   \u001b[0m\u001b[1;31;41m ! \u001b[0m\u001b[1;37;47m   \u001b[0m\u001b[0;30;40m   \u001b[0m\u001b[1;37;47m   \u001b[0m\u001b[1;37;47m   \u001b[0m\u001b[0;30;40m   \u001b[0m\u001b[1;37;47m   \u001b[0m\u001b[0;30;40m   \u001b[0m\u001b[1;37;47m   \u001b[0m\n",
      "\u001b[1;37;47m   \u001b[0m\u001b[0;30;40m   \u001b[0m\u001b[1;37;47m   \u001b[0m\u001b[1;37;47m   \u001b[0m\u001b[1;37;47m   \u001b[0m\u001b[1;37;47m   \u001b[0m\u001b[1;37;47m   \u001b[0m\u001b[1;37;47m   \u001b[0m\u001b[1;32;42m ! \u001b[0m\u001b[1;37;47m   \u001b[0m\n",
      "\u001b[1;37;47m   \u001b[0m\u001b[1;37;47m   \u001b[0m\u001b[1;37;47m   \u001b[0m\u001b[1;37;47m   \u001b[0m\u001b[0;30;40m   \u001b[0m\u001b[1;37;47m   \u001b[0m\u001b[1;37;47m   \u001b[0m\u001b[1;37;47m   \u001b[0m\u001b[0;30;40m   \u001b[0m\u001b[1;37;47m   \u001b[0m\n",
      "\u001b[1;37;47m   \u001b[0m\u001b[1;37;47m   \u001b[0m\u001b[1;37;47m   \u001b[0m\u001b[0;30;40m   \u001b[0m\u001b[1;37;47m   \u001b[0m\u001b[1;37;47m   \u001b[0m\u001b[1;37;47m   \u001b[0m\u001b[1;37;47m   \u001b[0m\u001b[1;37;47m   \u001b[0m\u001b[1;37;47m   \u001b[0m\n",
      "\u001b[1;37;47m   \u001b[0m\u001b[0;30;40m   \u001b[0m\u001b[1;37;47m   \u001b[0m\u001b[0;30;40m   \u001b[0m\u001b[1;37;47m   \u001b[0m\u001b[1;37;47m   \u001b[0m\u001b[1;37;47m   \u001b[0m\u001b[1;37;47m   \u001b[0m\u001b[1;37;47m   \u001b[0m\u001b[1;32;42m ! \u001b[0m\n",
      "\u001b[1;37;47m   \u001b[0m\u001b[0;30;40m   \u001b[0m\u001b[1;37;47m   \u001b[0m\u001b[1;37;47m   \u001b[0m\u001b[1;37;47m   \u001b[0m\u001b[1;37;47m   \u001b[0m\u001b[1;37;47m   \u001b[0m\u001b[1;37;47m   \u001b[0m\u001b[1;32;42m ! \u001b[0m\u001b[1;37;47m   \u001b[0m\n",
      "\u001b[1;35;47m @ \u001b[0m\u001b[1;37;47m   \u001b[0m\u001b[1;37;47m   \u001b[0m\u001b[1;37;47m   \u001b[0m\u001b[1;37;47m   \u001b[0m\u001b[1;37;47m   \u001b[0m\u001b[1;31;41m ! \u001b[0m\u001b[1;37;47m   \u001b[0m\u001b[1;37;47m   \u001b[0m\u001b[0;30;40m   \u001b[0m\n",
      "\u001b[0;30;40m   \u001b[0m\u001b[1;37;47m   \u001b[0m\u001b[0;30;40m   \u001b[0m\u001b[0;30;40m   \u001b[0m\u001b[1;37;47m   \u001b[0m\u001b[0;30;40m   \u001b[0m\u001b[1;37;47m   \u001b[0m\u001b[1;31;41m ! \u001b[0m\u001b[1;32;42m ! \u001b[0m\u001b[0;30;40m   \u001b[0m\n",
      "\u001b[1;37;47m   \u001b[0m\u001b[1;32;42m ! \u001b[0m\u001b[1;37;47m   \u001b[0m\u001b[0;30;40m   \u001b[0m\u001b[1;37;47m   \u001b[0m\u001b[1;37;47m   \u001b[0m\u001b[1;37;47m   \u001b[0m\u001b[1;37;47m   \u001b[0m\u001b[1;37;47m   \u001b[0m\u001b[1;37;47m   \u001b[0m\n",
      "\u001b[1;37;47m   \u001b[0m\u001b[1;32;42m ! \u001b[0m\u001b[0;30;40m   \u001b[0m\u001b[0;30;40m   \u001b[0m\u001b[1;37;47m   \u001b[0m\u001b[1;37;47m   \u001b[0m\u001b[1;32;42m ! \u001b[0m\u001b[0;30;40m   \u001b[0m\u001b[1;37;47m   \u001b[0m\u001b[1;37;47m   \u001b[0m\n",
      "Score: 20 Moves: 119 Direction:3\n"
     ]
    }
   ],
   "source": [
    "play(agent.Q,env1,walls=0.2)"
   ]
  },
  {
   "cell_type": "markdown",
   "id": "HqXrfMZH7yG7",
   "metadata": {
    "id": "HqXrfMZH7yG7"
   },
   "source": [
    "Next:\n",
    "- train seperate network for nds=True.\n",
    "- sigmoid for first layer"
   ]
  },
  {
   "cell_type": "markdown",
   "id": "35103b3a",
   "metadata": {},
   "source": [
    "Agent Training Notebook V1"
   ]
  }
 ],
 "metadata": {
  "colab": {
   "provenance": []
  },
  "kernelspec": {
   "display_name": "Python 3 (ipykernel)",
   "language": "python",
   "name": "python3"
  },
  "language_info": {
   "codemirror_mode": {
    "name": "ipython",
    "version": 3
   },
   "file_extension": ".py",
   "mimetype": "text/x-python",
   "name": "python",
   "nbconvert_exporter": "python",
   "pygments_lexer": "ipython3",
   "version": "3.10.10"
  }
 },
 "nbformat": 4,
 "nbformat_minor": 5
}
